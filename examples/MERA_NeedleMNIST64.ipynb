{
 "cells": [
  {
   "cell_type": "code",
   "execution_count": 2,
   "metadata": {},
   "outputs": [
    {
     "name": "stderr",
     "output_type": "stream",
     "text": [
      "WARNING:root:Limited tf.compat.v2.summary API due to missing TensorBoard installation.\n",
      "WARNING:root:Limited tf.compat.v2.summary API due to missing TensorBoard installation.\n",
      "WARNING:root:Limited tf.compat.v2.summary API due to missing TensorBoard installation.\n",
      "WARNING:root:Limited tf.compat.v2.summary API due to missing TensorBoard installation.\n",
      "WARNING:root:Limited tf.compat.v2.summary API due to missing TensorBoard installation.\n",
      "WARNING:root:Limited tf.compat.v2.summary API due to missing TensorBoard installation.\n",
      "WARNING:root:Limited tf.summary API due to missing TensorBoard installation.\n"
     ]
    }
   ],
   "source": [
    "import numpy as np\n",
    "import matplotlib.pyplot as plt\n",
    "import tensorflow as tf\n",
    "tf.compat.v1.enable_v2_behavior\n",
    "# Import tensornetwork\n",
    "import tensornetwork as tn\n",
    "# Set the backend to tesorflow\n",
    "# (default is numpy)\n",
    "tn.set_default_backend(\"tensorflow\")\n",
    "\n",
    "(x_train, y_train), (x_test, y_test) = tf.keras.datasets.mnist.load_data(\"/hpc/group/carin/fk43/FanjieKong/Megapixels/new_tfquantum/quantum/TensorNetwork/mnist.npz\")"
   ]
  },
  {
   "cell_type": "code",
   "execution_count": 3,
   "metadata": {},
   "outputs": [],
   "source": [
    "from tensorflow.keras.utils import to_categorical\n",
    "\n",
    "x_train = x_train.reshape((60000, 28, 28, 1)).astype(np.float32)\n",
    "y_train = to_categorical(y_train, 10).astype(np.float32)\n",
    "x_test = x_test.reshape((10000, 28, 28, 1))\n",
    "y_test = to_categorical(y_test, 10)\n",
    "\n",
    "# print(x_train.shape, y_train.shape)\n",
    "# print(x_test.shape, y_test.shape)\n",
    "# print(y_train)"
   ]
  },
  {
   "cell_type": "code",
   "execution_count": 19,
   "metadata": {},
   "outputs": [
    {
     "data": {
      "text/plain": [
       "(60000, 10)"
      ]
     },
     "execution_count": 19,
     "metadata": {},
     "output_type": "execute_result"
    }
   ],
   "source": [
    "y_train.shape"
   ]
  },
  {
   "cell_type": "code",
   "execution_count": 4,
   "metadata": {},
   "outputs": [],
   "source": [
    "xx_train = (tf.image.resize(x_train, [16,16]).numpy()-128)/255\n",
    "xx_test = (tf.image.resize(x_test, [16,16]).numpy()-128)/255\n",
    "\n",
    "xxx_train = (x_train-128)/255\n",
    "xxx_test = (x_test-128)/255"
   ]
  },
  {
   "cell_type": "code",
   "execution_count": 15,
   "metadata": {},
   "outputs": [],
   "source": [
    "class Grid4DMERA(tf.keras.layers.Layer):\n",
    "    \n",
    "    def __init__(self, input_dim, bond_dims, output_dims, n_layers=None):\n",
    "        super(Grid4DMERA, self).__init__()\n",
    "        # Create the variables for the layer.\n",
    "        # In this case, the input tensor is (, 1936), we factorize it into a tensor (, 11, 11, 16)\n",
    "        # first_dim: output shape?\n",
    "        # second_dim: connect with data tensor\n",
    "        # third_dim: inter-connect\n",
    "        if n_layers is None:\n",
    "            n_layers = np.floor(np.log2(input_dim))\n",
    "        self.n_layers = n_layers\n",
    "        in_dims = 16\n",
    "        dims = input_dim\n",
    "        self.entanglers = []\n",
    "        self.isometries= []\n",
    "            \n",
    "        # isometries\n",
    "        self.isometries1 = [tf.Variable(tf.random.normal(shape=(in_dims, in_dims, in_dims, \n",
    "                                                                            in_dims, bond_dims)\n",
    "                                                                     , stddev=1.0/1000),\n",
    "                                            trainable=True) for j in range(4)]\n",
    "        \n",
    "        self.isometries2 = tf.Variable(tf.random.normal(shape=(bond_dims, bond_dims, bond_dims, \n",
    "                                                                            bond_dims, output_dims)\n",
    "                                                                     , stddev=1.0/1000),\n",
    "                                            trainable=True)\n",
    "\n",
    "        #print(self.final_mps.shape)\n",
    "        self.bias = tf.Variable(tf.zeros(shape=(output_dims,)), name=\"bias\", trainable=True)\n",
    "\n",
    "\n",
    "    def call(self, inputs):\n",
    "        # Define the contraction.\n",
    "        # We break it out so we can parallelize a batch using tf.vectorized_map.\n",
    "        def f(input_vec, isometries1, isometries2, bias_var, n_layers):\n",
    "            input_vv = []\n",
    "            #print(input_vec)\n",
    "            for i in range(4):\n",
    "                for ii in range(4):\n",
    "                    input_vv.append(tf.reshape(input_vec[i*4:i*4+4, ii*4:ii*4+4, 0], (1, 16)))\n",
    "            input_vec = tf.concat(input_vv, axis=0)\n",
    "            input_vec = tf.reshape(input_vec, (16, 16))\n",
    "            input_vec = tf.unstack(input_vec)\n",
    "            input_nodes = []\n",
    "            for e_iv in input_vec:\n",
    "                input_nodes.append(tn.Node(e_iv))\n",
    "            \n",
    "                \n",
    "                                     \n",
    "            isometries_nodes1 = []\n",
    "            for eiso in isometries1:\n",
    "                isometries_nodes1.append(tn.Node(eiso))\n",
    "            isometries_nodes2 = tn.Node(isometries2)\n",
    "            \n",
    "             \n",
    "            \n",
    "            input_nodes[0][0] ^ isometries_nodes1[0][0]\n",
    "            input_nodes[1][0] ^ isometries_nodes1[0][1]\n",
    "            input_nodes[4][0] ^ isometries_nodes1[0][2]\n",
    "            input_nodes[5][0] ^ isometries_nodes1[0][3]\n",
    "\n",
    "            input_nodes[2][0] ^ isometries_nodes1[1][0]\n",
    "            input_nodes[3][0] ^ isometries_nodes1[1][1]\n",
    "            input_nodes[6][0] ^ isometries_nodes1[1][2]\n",
    "            input_nodes[7][0] ^ isometries_nodes1[1][3]\n",
    "            \n",
    "            input_nodes[8][0] ^ isometries_nodes1[2][0]         \n",
    "            input_nodes[9][0] ^ isometries_nodes1[2][1]\n",
    "            input_nodes[12][0] ^ isometries_nodes1[2][2]\n",
    "            input_nodes[13][0] ^ isometries_nodes1[2][3]\n",
    "            \n",
    "            input_nodes[10][0] ^ isometries_nodes1[3][0]\n",
    "            input_nodes[11][0] ^ isometries_nodes1[3][1]\n",
    "            input_nodes[14][0] ^ isometries_nodes1[3][2]\n",
    "            input_nodes[15][0] ^ isometries_nodes1[3][3]\n",
    "            \n",
    "            \n",
    "            isometries_nodes1[0][4] ^ isometries_nodes2[0]\n",
    "            isometries_nodes1[1][4] ^ isometries_nodes2[1]\n",
    "            isometries_nodes1[2][4] ^ isometries_nodes2[2]\n",
    "            isometries_nodes1[3][4] ^ isometries_nodes2[3]\n",
    "                            \n",
    "            nodes = tn.reachable(isometries_nodes2)\n",
    "            result = tn.contractors.greedy(nodes)\n",
    "            result = result.tensor\n",
    "            #print(result)\n",
    "            #result = (c @ b).tensor\n",
    "            # Finally, add bias.\n",
    "            return result + bias_var\n",
    "\n",
    "        # To deal with a batch of items, we can use the tf.vectorized_map function.\n",
    "        # https://www.tensorflow.org/api_docs/python/tf/vectorized_map\n",
    "        output = tf.vectorized_map(lambda vec: f(vec, self.isometries1,  self.isometries2, self.bias, self.n_layers), inputs)\n",
    "        return tf.reshape(output, (-1, 10))"
   ]
  },
  {
   "cell_type": "code",
   "execution_count": 16,
   "metadata": {},
   "outputs": [
    {
     "name": "stdout",
     "output_type": "stream",
     "text": [
      "Model: \"sequential\"\n",
      "_________________________________________________________________\n",
      "Layer (type)                 Output Shape              Param #   \n",
      "=================================================================\n",
      "grid4dmera (Grid4DMERA)      (None, 10)                524458    \n",
      "_________________________________________________________________\n",
      "softmax (Softmax)            (None, 10)                0         \n",
      "=================================================================\n",
      "Total params: 524,458\n",
      "Trainable params: 524,458\n",
      "Non-trainable params: 0\n",
      "_________________________________________________________________\n"
     ]
    }
   ],
   "source": [
    "Dense = tf.keras.layers.Dense\n",
    "\n",
    "MERA_model = tf.keras.Sequential()\n",
    "MERA_model.add(tf.keras.Input(shape=(16,16,1)))\n",
    "MERA_model.add(Grid4DMERA(input_dim=8, bond_dims=2, output_dims=10, n_layers=2))\n",
    "#MERA_model.add(Dense(10, activation='softmax', name='fc'))\n",
    "MERA_model.add(tf.keras.layers.Softmax())\n",
    "#MERA_model.build(input_shape=(None, 8, 8, 1))\n",
    "MERA_model.summary()"
   ]
  },
  {
   "cell_type": "code",
   "execution_count": 17,
   "metadata": {},
   "outputs": [
    {
     "name": "stdout",
     "output_type": "stream",
     "text": [
      "Train on 60000 samples\n",
      "Epoch 1/50\n",
      " 7072/60000 [==>...........................] - ETA: 33s - loss: 2.3232 - accuracy: 0.1441"
     ]
    },
    {
     "ename": "KeyboardInterrupt",
     "evalue": "",
     "output_type": "error",
     "traceback": [
      "\u001b[0;31m---------------------------------------------------------------------------\u001b[0m",
      "\u001b[0;31mKeyboardInterrupt\u001b[0m                         Traceback (most recent call last)",
      "\u001b[0;32m<timed exec>\u001b[0m in \u001b[0;36m<module>\u001b[0;34m\u001b[0m\n",
      "\u001b[0;32m/hpchome/carin/fk43/anaconda3/envs/tfquant/lib/python3.7/site-packages/tensorflow_core/python/keras/engine/training.py\u001b[0m in \u001b[0;36mfit\u001b[0;34m(self, x, y, batch_size, epochs, verbose, callbacks, validation_split, validation_data, shuffle, class_weight, sample_weight, initial_epoch, steps_per_epoch, validation_steps, validation_freq, max_queue_size, workers, use_multiprocessing, **kwargs)\u001b[0m\n\u001b[1;32m    817\u001b[0m         \u001b[0mmax_queue_size\u001b[0m\u001b[0;34m=\u001b[0m\u001b[0mmax_queue_size\u001b[0m\u001b[0;34m,\u001b[0m\u001b[0;34m\u001b[0m\u001b[0;34m\u001b[0m\u001b[0m\n\u001b[1;32m    818\u001b[0m         \u001b[0mworkers\u001b[0m\u001b[0;34m=\u001b[0m\u001b[0mworkers\u001b[0m\u001b[0;34m,\u001b[0m\u001b[0;34m\u001b[0m\u001b[0;34m\u001b[0m\u001b[0m\n\u001b[0;32m--> 819\u001b[0;31m         use_multiprocessing=use_multiprocessing)\n\u001b[0m\u001b[1;32m    820\u001b[0m \u001b[0;34m\u001b[0m\u001b[0m\n\u001b[1;32m    821\u001b[0m   def evaluate(self,\n",
      "\u001b[0;32m/hpchome/carin/fk43/anaconda3/envs/tfquant/lib/python3.7/site-packages/tensorflow_core/python/keras/engine/training_v2.py\u001b[0m in \u001b[0;36mfit\u001b[0;34m(self, model, x, y, batch_size, epochs, verbose, callbacks, validation_split, validation_data, shuffle, class_weight, sample_weight, initial_epoch, steps_per_epoch, validation_steps, validation_freq, max_queue_size, workers, use_multiprocessing, **kwargs)\u001b[0m\n\u001b[1;32m    340\u001b[0m                 \u001b[0mmode\u001b[0m\u001b[0;34m=\u001b[0m\u001b[0mModeKeys\u001b[0m\u001b[0;34m.\u001b[0m\u001b[0mTRAIN\u001b[0m\u001b[0;34m,\u001b[0m\u001b[0;34m\u001b[0m\u001b[0;34m\u001b[0m\u001b[0m\n\u001b[1;32m    341\u001b[0m                 \u001b[0mtraining_context\u001b[0m\u001b[0;34m=\u001b[0m\u001b[0mtraining_context\u001b[0m\u001b[0;34m,\u001b[0m\u001b[0;34m\u001b[0m\u001b[0;34m\u001b[0m\u001b[0m\n\u001b[0;32m--> 342\u001b[0;31m                 total_epochs=epochs)\n\u001b[0m\u001b[1;32m    343\u001b[0m             \u001b[0mcbks\u001b[0m\u001b[0;34m.\u001b[0m\u001b[0mmake_logs\u001b[0m\u001b[0;34m(\u001b[0m\u001b[0mmodel\u001b[0m\u001b[0;34m,\u001b[0m \u001b[0mepoch_logs\u001b[0m\u001b[0;34m,\u001b[0m \u001b[0mtraining_result\u001b[0m\u001b[0;34m,\u001b[0m \u001b[0mModeKeys\u001b[0m\u001b[0;34m.\u001b[0m\u001b[0mTRAIN\u001b[0m\u001b[0;34m)\u001b[0m\u001b[0;34m\u001b[0m\u001b[0;34m\u001b[0m\u001b[0m\n\u001b[1;32m    344\u001b[0m \u001b[0;34m\u001b[0m\u001b[0m\n",
      "\u001b[0;32m/hpchome/carin/fk43/anaconda3/envs/tfquant/lib/python3.7/site-packages/tensorflow_core/python/keras/engine/training_v2.py\u001b[0m in \u001b[0;36mrun_one_epoch\u001b[0;34m(model, iterator, execution_function, dataset_size, batch_size, strategy, steps_per_epoch, num_samples, mode, training_context, total_epochs)\u001b[0m\n\u001b[1;32m    179\u001b[0m             batch_end=step * batch_size + current_batch_size)\n\u001b[1;32m    180\u001b[0m       \u001b[0mcbks\u001b[0m\u001b[0;34m.\u001b[0m\u001b[0mmake_logs\u001b[0m\u001b[0;34m(\u001b[0m\u001b[0mmodel\u001b[0m\u001b[0;34m,\u001b[0m \u001b[0mbatch_logs\u001b[0m\u001b[0;34m,\u001b[0m \u001b[0mbatch_outs\u001b[0m\u001b[0;34m,\u001b[0m \u001b[0mmode\u001b[0m\u001b[0;34m)\u001b[0m\u001b[0;34m\u001b[0m\u001b[0;34m\u001b[0m\u001b[0m\n\u001b[0;32m--> 181\u001b[0;31m       \u001b[0mstep\u001b[0m \u001b[0;34m+=\u001b[0m \u001b[0;36m1\u001b[0m\u001b[0;34m\u001b[0m\u001b[0;34m\u001b[0m\u001b[0m\n\u001b[0m\u001b[1;32m    182\u001b[0m \u001b[0;34m\u001b[0m\u001b[0m\n\u001b[1;32m    183\u001b[0m     \u001b[0;32mif\u001b[0m \u001b[0mcallbacks\u001b[0m\u001b[0;34m.\u001b[0m\u001b[0mmodel\u001b[0m\u001b[0;34m.\u001b[0m\u001b[0mstop_training\u001b[0m\u001b[0;34m:\u001b[0m\u001b[0;34m\u001b[0m\u001b[0;34m\u001b[0m\u001b[0m\n",
      "\u001b[0;32m/hpchome/carin/fk43/anaconda3/envs/tfquant/lib/python3.7/contextlib.py\u001b[0m in \u001b[0;36m__exit__\u001b[0;34m(self, type, value, traceback)\u001b[0m\n\u001b[1;32m    117\u001b[0m         \u001b[0;32mif\u001b[0m \u001b[0mtype\u001b[0m \u001b[0;32mis\u001b[0m \u001b[0;32mNone\u001b[0m\u001b[0;34m:\u001b[0m\u001b[0;34m\u001b[0m\u001b[0;34m\u001b[0m\u001b[0m\n\u001b[1;32m    118\u001b[0m             \u001b[0;32mtry\u001b[0m\u001b[0;34m:\u001b[0m\u001b[0;34m\u001b[0m\u001b[0;34m\u001b[0m\u001b[0m\n\u001b[0;32m--> 119\u001b[0;31m                 \u001b[0mnext\u001b[0m\u001b[0;34m(\u001b[0m\u001b[0mself\u001b[0m\u001b[0;34m.\u001b[0m\u001b[0mgen\u001b[0m\u001b[0;34m)\u001b[0m\u001b[0;34m\u001b[0m\u001b[0;34m\u001b[0m\u001b[0m\n\u001b[0m\u001b[1;32m    120\u001b[0m             \u001b[0;32mexcept\u001b[0m \u001b[0mStopIteration\u001b[0m\u001b[0;34m:\u001b[0m\u001b[0;34m\u001b[0m\u001b[0;34m\u001b[0m\u001b[0m\n\u001b[1;32m    121\u001b[0m                 \u001b[0;32mreturn\u001b[0m \u001b[0;32mFalse\u001b[0m\u001b[0;34m\u001b[0m\u001b[0;34m\u001b[0m\u001b[0m\n",
      "\u001b[0;32m/hpchome/carin/fk43/anaconda3/envs/tfquant/lib/python3.7/site-packages/tensorflow_core/python/keras/engine/training_v2.py\u001b[0m in \u001b[0;36mon_batch\u001b[0;34m(self, step, mode, size)\u001b[0m\n\u001b[1;32m    787\u001b[0m           self.callbacks._call_batch_hook(\n\u001b[1;32m    788\u001b[0m               mode, 'end', step, batch_logs)\n\u001b[0;32m--> 789\u001b[0;31m           \u001b[0mself\u001b[0m\u001b[0;34m.\u001b[0m\u001b[0mprogbar\u001b[0m\u001b[0;34m.\u001b[0m\u001b[0mon_batch_end\u001b[0m\u001b[0;34m(\u001b[0m\u001b[0mstep\u001b[0m\u001b[0;34m,\u001b[0m \u001b[0mbatch_logs\u001b[0m\u001b[0;34m)\u001b[0m\u001b[0;34m\u001b[0m\u001b[0;34m\u001b[0m\u001b[0m\n\u001b[0m",
      "\u001b[0;32m/hpchome/carin/fk43/anaconda3/envs/tfquant/lib/python3.7/site-packages/tensorflow_core/python/keras/callbacks.py\u001b[0m in \u001b[0;36mon_batch_end\u001b[0;34m(self, batch, logs)\u001b[0m\n\u001b[1;32m    779\u001b[0m     \u001b[0;31m# will be handled by on_epoch_end.\u001b[0m\u001b[0;34m\u001b[0m\u001b[0;34m\u001b[0m\u001b[0;34m\u001b[0m\u001b[0m\n\u001b[1;32m    780\u001b[0m     \u001b[0;32mif\u001b[0m \u001b[0mself\u001b[0m\u001b[0;34m.\u001b[0m\u001b[0mverbose\u001b[0m \u001b[0;32mand\u001b[0m \u001b[0;34m(\u001b[0m\u001b[0mself\u001b[0m\u001b[0;34m.\u001b[0m\u001b[0mtarget\u001b[0m \u001b[0;32mis\u001b[0m \u001b[0;32mNone\u001b[0m \u001b[0;32mor\u001b[0m \u001b[0mself\u001b[0m\u001b[0;34m.\u001b[0m\u001b[0mseen\u001b[0m \u001b[0;34m<\u001b[0m \u001b[0mself\u001b[0m\u001b[0;34m.\u001b[0m\u001b[0mtarget\u001b[0m\u001b[0;34m)\u001b[0m\u001b[0;34m:\u001b[0m\u001b[0;34m\u001b[0m\u001b[0;34m\u001b[0m\u001b[0m\n\u001b[0;32m--> 781\u001b[0;31m       \u001b[0mself\u001b[0m\u001b[0;34m.\u001b[0m\u001b[0mprogbar\u001b[0m\u001b[0;34m.\u001b[0m\u001b[0mupdate\u001b[0m\u001b[0;34m(\u001b[0m\u001b[0mself\u001b[0m\u001b[0;34m.\u001b[0m\u001b[0mseen\u001b[0m\u001b[0;34m,\u001b[0m \u001b[0mself\u001b[0m\u001b[0;34m.\u001b[0m\u001b[0mlog_values\u001b[0m\u001b[0;34m)\u001b[0m\u001b[0;34m\u001b[0m\u001b[0;34m\u001b[0m\u001b[0m\n\u001b[0m\u001b[1;32m    782\u001b[0m \u001b[0;34m\u001b[0m\u001b[0m\n\u001b[1;32m    783\u001b[0m   \u001b[0;32mdef\u001b[0m \u001b[0mon_epoch_end\u001b[0m\u001b[0;34m(\u001b[0m\u001b[0mself\u001b[0m\u001b[0;34m,\u001b[0m \u001b[0mepoch\u001b[0m\u001b[0;34m,\u001b[0m \u001b[0mlogs\u001b[0m\u001b[0;34m=\u001b[0m\u001b[0;32mNone\u001b[0m\u001b[0;34m)\u001b[0m\u001b[0;34m:\u001b[0m\u001b[0;34m\u001b[0m\u001b[0;34m\u001b[0m\u001b[0m\n",
      "\u001b[0;32m/hpchome/carin/fk43/anaconda3/envs/tfquant/lib/python3.7/site-packages/tensorflow_core/python/keras/utils/generic_utils.py\u001b[0m in \u001b[0;36mupdate\u001b[0;34m(self, current, values)\u001b[0m\n\u001b[1;32m    573\u001b[0m \u001b[0;34m\u001b[0m\u001b[0m\n\u001b[1;32m    574\u001b[0m       \u001b[0msys\u001b[0m\u001b[0;34m.\u001b[0m\u001b[0mstdout\u001b[0m\u001b[0;34m.\u001b[0m\u001b[0mwrite\u001b[0m\u001b[0;34m(\u001b[0m\u001b[0minfo\u001b[0m\u001b[0;34m)\u001b[0m\u001b[0;34m\u001b[0m\u001b[0;34m\u001b[0m\u001b[0m\n\u001b[0;32m--> 575\u001b[0;31m       \u001b[0msys\u001b[0m\u001b[0;34m.\u001b[0m\u001b[0mstdout\u001b[0m\u001b[0;34m.\u001b[0m\u001b[0mflush\u001b[0m\u001b[0;34m(\u001b[0m\u001b[0;34m)\u001b[0m\u001b[0;34m\u001b[0m\u001b[0;34m\u001b[0m\u001b[0m\n\u001b[0m\u001b[1;32m    576\u001b[0m \u001b[0;34m\u001b[0m\u001b[0m\n\u001b[1;32m    577\u001b[0m     \u001b[0;32melif\u001b[0m \u001b[0mself\u001b[0m\u001b[0;34m.\u001b[0m\u001b[0mverbose\u001b[0m \u001b[0;34m==\u001b[0m \u001b[0;36m2\u001b[0m\u001b[0;34m:\u001b[0m\u001b[0;34m\u001b[0m\u001b[0;34m\u001b[0m\u001b[0m\n",
      "\u001b[0;32m/hpchome/carin/fk43/anaconda3/envs/tfquant/lib/python3.7/site-packages/ipykernel/iostream.py\u001b[0m in \u001b[0;36mflush\u001b[0;34m(self)\u001b[0m\n\u001b[1;32m    350\u001b[0m                 \u001b[0mself\u001b[0m\u001b[0;34m.\u001b[0m\u001b[0mpub_thread\u001b[0m\u001b[0;34m.\u001b[0m\u001b[0mschedule\u001b[0m\u001b[0;34m(\u001b[0m\u001b[0mevt\u001b[0m\u001b[0;34m.\u001b[0m\u001b[0mset\u001b[0m\u001b[0;34m)\u001b[0m\u001b[0;34m\u001b[0m\u001b[0;34m\u001b[0m\u001b[0m\n\u001b[1;32m    351\u001b[0m                 \u001b[0;31m# and give a timeout to avoid\u001b[0m\u001b[0;34m\u001b[0m\u001b[0;34m\u001b[0m\u001b[0;34m\u001b[0m\u001b[0m\n\u001b[0;32m--> 352\u001b[0;31m                 \u001b[0;32mif\u001b[0m \u001b[0;32mnot\u001b[0m \u001b[0mevt\u001b[0m\u001b[0;34m.\u001b[0m\u001b[0mwait\u001b[0m\u001b[0;34m(\u001b[0m\u001b[0mself\u001b[0m\u001b[0;34m.\u001b[0m\u001b[0mflush_timeout\u001b[0m\u001b[0;34m)\u001b[0m\u001b[0;34m:\u001b[0m\u001b[0;34m\u001b[0m\u001b[0;34m\u001b[0m\u001b[0m\n\u001b[0m\u001b[1;32m    353\u001b[0m                     \u001b[0;31m# write directly to __stderr__ instead of warning because\u001b[0m\u001b[0;34m\u001b[0m\u001b[0;34m\u001b[0m\u001b[0;34m\u001b[0m\u001b[0m\n\u001b[1;32m    354\u001b[0m                     \u001b[0;31m# if this is happening sys.stderr may be the problem.\u001b[0m\u001b[0;34m\u001b[0m\u001b[0;34m\u001b[0m\u001b[0;34m\u001b[0m\u001b[0m\n",
      "\u001b[0;32m/hpchome/carin/fk43/anaconda3/envs/tfquant/lib/python3.7/threading.py\u001b[0m in \u001b[0;36mwait\u001b[0;34m(self, timeout)\u001b[0m\n\u001b[1;32m    550\u001b[0m             \u001b[0msignaled\u001b[0m \u001b[0;34m=\u001b[0m \u001b[0mself\u001b[0m\u001b[0;34m.\u001b[0m\u001b[0m_flag\u001b[0m\u001b[0;34m\u001b[0m\u001b[0;34m\u001b[0m\u001b[0m\n\u001b[1;32m    551\u001b[0m             \u001b[0;32mif\u001b[0m \u001b[0;32mnot\u001b[0m \u001b[0msignaled\u001b[0m\u001b[0;34m:\u001b[0m\u001b[0;34m\u001b[0m\u001b[0;34m\u001b[0m\u001b[0m\n\u001b[0;32m--> 552\u001b[0;31m                 \u001b[0msignaled\u001b[0m \u001b[0;34m=\u001b[0m \u001b[0mself\u001b[0m\u001b[0;34m.\u001b[0m\u001b[0m_cond\u001b[0m\u001b[0;34m.\u001b[0m\u001b[0mwait\u001b[0m\u001b[0;34m(\u001b[0m\u001b[0mtimeout\u001b[0m\u001b[0;34m)\u001b[0m\u001b[0;34m\u001b[0m\u001b[0;34m\u001b[0m\u001b[0m\n\u001b[0m\u001b[1;32m    553\u001b[0m             \u001b[0;32mreturn\u001b[0m \u001b[0msignaled\u001b[0m\u001b[0;34m\u001b[0m\u001b[0;34m\u001b[0m\u001b[0m\n\u001b[1;32m    554\u001b[0m \u001b[0;34m\u001b[0m\u001b[0m\n",
      "\u001b[0;32m/hpchome/carin/fk43/anaconda3/envs/tfquant/lib/python3.7/threading.py\u001b[0m in \u001b[0;36mwait\u001b[0;34m(self, timeout)\u001b[0m\n\u001b[1;32m    298\u001b[0m             \u001b[0;32melse\u001b[0m\u001b[0;34m:\u001b[0m\u001b[0;34m\u001b[0m\u001b[0;34m\u001b[0m\u001b[0m\n\u001b[1;32m    299\u001b[0m                 \u001b[0;32mif\u001b[0m \u001b[0mtimeout\u001b[0m \u001b[0;34m>\u001b[0m \u001b[0;36m0\u001b[0m\u001b[0;34m:\u001b[0m\u001b[0;34m\u001b[0m\u001b[0;34m\u001b[0m\u001b[0m\n\u001b[0;32m--> 300\u001b[0;31m                     \u001b[0mgotit\u001b[0m \u001b[0;34m=\u001b[0m \u001b[0mwaiter\u001b[0m\u001b[0;34m.\u001b[0m\u001b[0macquire\u001b[0m\u001b[0;34m(\u001b[0m\u001b[0;32mTrue\u001b[0m\u001b[0;34m,\u001b[0m \u001b[0mtimeout\u001b[0m\u001b[0;34m)\u001b[0m\u001b[0;34m\u001b[0m\u001b[0;34m\u001b[0m\u001b[0m\n\u001b[0m\u001b[1;32m    301\u001b[0m                 \u001b[0;32melse\u001b[0m\u001b[0;34m:\u001b[0m\u001b[0;34m\u001b[0m\u001b[0;34m\u001b[0m\u001b[0m\n\u001b[1;32m    302\u001b[0m                     \u001b[0mgotit\u001b[0m \u001b[0;34m=\u001b[0m \u001b[0mwaiter\u001b[0m\u001b[0;34m.\u001b[0m\u001b[0macquire\u001b[0m\u001b[0;34m(\u001b[0m\u001b[0;32mFalse\u001b[0m\u001b[0;34m)\u001b[0m\u001b[0;34m\u001b[0m\u001b[0;34m\u001b[0m\u001b[0m\n",
      "\u001b[0;31mKeyboardInterrupt\u001b[0m: "
     ]
    }
   ],
   "source": [
    "%%time\n",
    "\n",
    "# TensorNetwork model\n",
    "MERA_model.compile(loss='categorical_crossentropy', optimizer=tf.keras.optimizers.Adam(), metrics=['accuracy'])\n",
    "MERA_hist = MERA_model.fit(xx_train, y_train, epochs=50, verbose=1)"
   ]
  },
  {
   "cell_type": "code",
   "execution_count": 13,
   "metadata": {},
   "outputs": [
    {
     "name": "stdout",
     "output_type": "stream",
     "text": [
      "10000/10000 [==============================] - 2s 225us/sample - loss: 1.1063 - accuracy: 0.7258\n"
     ]
    },
    {
     "data": {
      "text/plain": [
       "[1.1063085706710816, 0.7258]"
      ]
     },
     "execution_count": 13,
     "metadata": {},
     "output_type": "execute_result"
    }
   ],
   "source": [
    "# TN model\n",
    "MERA_model.evaluate(x=xx_test, y=y_test)"
   ]
  },
  {
   "cell_type": "code",
   "execution_count": 16,
   "metadata": {},
   "outputs": [
    {
     "data": {
      "image/png": "[encoded data removed]",
      "text/plain": [
       "<Figure size 432x288 with 1 Axes>"
      ]
     },
     "metadata": {
      "needs_background": "light"
     },
     "output_type": "display_data"
    },
    {
     "data": {
      "image/png": "[encoded data removed]",
      "text/plain": [
       "<Figure size 432x288 with 1 Axes>"
      ]
     },
     "metadata": {
      "needs_background": "light"
     },
     "output_type": "display_data"
    }
   ],
   "source": [
    "#loss = hist.history['loss']\n",
    "#acc = hist.history['accuracy']\n",
    "tn_loss = MERA_hist.history['loss']\n",
    "tn_acc = MERA_hist.history['accuracy']\n",
    "\n",
    "#plt.plot(loss, label='traditional')\n",
    "plt.plot(tn_loss, label='tn')\n",
    "plt.title('Loss comparsion in training')\n",
    "#plt.ylim(0, 0.15)\n",
    "plt.legend()\n",
    "plt.show()\n",
    "\n",
    "#plt.plot(acc, label='traditional')\n",
    "plt.plot(tn_acc, label='tn')\n",
    "plt.title('Accuracy comparsion in training')\n",
    "plt.legend()\n",
    "plt.show()"
   ]
  },
  {
   "cell_type": "code",
   "execution_count": 22,
   "metadata": {},
   "outputs": [],
   "source": [
    "from tensorflow.keras.utils import Sequence\n",
    "import pandas as pd\n",
    "import os \n",
    "class ClutteredMNISTDataset(Sequence):\n",
    "    reg_dataset_size = 11276\n",
    "\n",
    "    def __init__(self, base_path, csv_path, data_scaling=1., num_examples=None, balance=None, num_classes=2):\n",
    "        self.base_path = base_path\n",
    "        self.csv_path = csv_path\n",
    "        self.csv = pd.read_csv(csv_path)\n",
    "        self.data_scaling = data_scaling\n",
    "        self.num_examples = num_examples\n",
    "        self.balance = balance\n",
    "        self.num_classes = num_classes\n",
    "        self.img_paths = self.csv['img_path'].values\n",
    "        self.lbls = self.csv['label'].values.astype(np.int32)\n",
    "        self.weights = np.ones([len(self.img_paths), ])\n",
    "\n",
    "        if self.num_examples is not None and self.balance is not None:\n",
    "            # only rebalance if examples and balance is given\n",
    "            assert self.num_examples <= len(self.img_paths), \\\n",
    "                'not enough examples in dataset {} - {}'.format(self.num_examples, len(self.img_paths))\n",
    "\n",
    "            pos_num = int(self.balance * self.num_examples)\n",
    "            neg_num = self.num_examples - pos_num\n",
    "\n",
    "            pos_mask = (self.lbls == 1)\n",
    "            pos_paths = self.img_paths[pos_mask][:pos_num]\n",
    "\n",
    "            neg_mask = (self.lbls == 0)\n",
    "            neg_paths = self.img_paths[neg_mask][:neg_num]\n",
    "\n",
    "            self.img_paths = np.concatenate([pos_paths, neg_paths], 0)\n",
    "            self.lbls = np.concatenate([np.ones([pos_num, ]), np.zeros([neg_num, ])], 0)\n",
    "            self.weights = np.ones([self.num_examples, ])\n",
    "            self.weights[:pos_num] /= pos_num\n",
    "            self.weights[pos_num:] /= neg_num\n",
    "\n",
    "        self.shrinkage = self.reg_dataset_size // len(self.img_paths)\n",
    "\n",
    "    def __len__(self):\n",
    "        return len(self.img_paths)\n",
    "\n",
    "    def __getitem__(self, index):\n",
    "        path = os.path.join(self.base_path, self.img_paths[index])\n",
    "        lbl = self.lbls[index].astype(np.int64)\n",
    "        lbl = np.eye(self.num_classes)[lbl].astype(np.int64)\n",
    "        img = np.load(path)\n",
    "        if isinstance(img, np.lib.npyio.NpzFile):\n",
    "            img = img['arr_0']\n",
    "\n",
    "        if self.data_scaling != 1.:\n",
    "            img = zoom(img, self.data_scaling)\n",
    "            img = img.clip(0., 1.)\n",
    "\n",
    "        img = img[:,:,np.newaxis].astype(np.float32) * 2 - 1\n",
    "\n",
    "        return img, lbl"
   ]
  },
  {
   "cell_type": "code",
   "execution_count": 23,
   "metadata": {},
   "outputs": [],
   "source": [
    "class Batcher(Sequence):\n",
    "    \"\"\"Assemble a sequence of things into a sequence of batches.\"\"\"\n",
    "    def __init__(self, sequence, batch_size=16):\n",
    "        self._batch_size = batch_size\n",
    "        self._sequence = sequence\n",
    "        self._idxs = np.arange(len(self._sequence))\n",
    "\n",
    "    def __len__(self):\n",
    "        return int(np.ceil(len(self._sequence) / self._batch_size))\n",
    "\n",
    "    def __getitem__(self, i):\n",
    "        if i >= len(self):\n",
    "            raise IndexError(\"Index out of bounds\")\n",
    "\n",
    "        start = i*self._batch_size\n",
    "        end = min(len(self._sequence), start+self._batch_size)\n",
    "        data = [self._sequence[j] for j in self._idxs[start:end]]\n",
    "        inputs = [d[0] for d in data]\n",
    "        outputs = [d[1] for d in data]\n",
    "\n",
    "        return self._stack(inputs), self._stack(outputs)\n",
    "\n",
    "    def _stack(self, data):\n",
    "        if data is None:\n",
    "            return None\n",
    "\n",
    "        if not isinstance(data[0], (list, tuple)):\n",
    "            return np.stack(data)\n",
    "\n",
    "        seq = type(data[0])\n",
    "        K = len(data[0])\n",
    "        data = seq(\n",
    "            np.stack([d[k] for d in data])\n",
    "            for k in range(K)\n",
    "        )\n",
    "\n",
    "        return data\n",
    "\n",
    "    def on_epoch_end(self):\n",
    "        np.random.shuffle(self._idxs)\n",
    "        self._sequence.on_epoch_end()"
   ]
  },
  {
   "cell_type": "code",
   "execution_count": 24,
   "metadata": {},
   "outputs": [],
   "source": [
    "import numpy as np\n",
    "import matplotlib.pyplot as plt\n",
    "import tensorflow as tf\n",
    "tf.compat.v1.enable_v2_behavior\n",
    "# Import tensornetwork\n",
    "import tensornetwork as tn\n",
    "from tensorflow.keras.utils import to_categorical\n",
    "tn.set_default_backend(\"tensorflow\")\n",
    "\n",
    "data_path = '/datacommons/carin/fk43/NeedleinHaystack/mnist64/'\n",
    "train_data=ClutteredMNISTDataset(base_path=data_path, csv_path=os.path.join(data_path, 'train.csv'), data_scaling=1., num_examples=3000, balance=0.5)\n",
    "val_data = ClutteredMNISTDataset(base_path=data_path, csv_path=os.path.join(data_path, 'val.csv'), data_scaling=1., num_examples=1000, balance=0.5)\n",
    "test_data = ClutteredMNISTDataset(base_path=data_path, csv_path=os.path.join(data_path, 'test.csv'), data_scaling=1., num_examples=1000, balance=0.5)"
   ]
  },
  {
   "cell_type": "code",
   "execution_count": 25,
   "metadata": {},
   "outputs": [
    {
     "data": {
      "text/plain": [
       "(64, 64, 1)"
      ]
     },
     "execution_count": 25,
     "metadata": {},
     "output_type": "execute_result"
    }
   ],
   "source": [
    "train_data.__getitem__(1)[0].shape"
   ]
  },
  {
   "cell_type": "code",
   "execution_count": 29,
   "metadata": {},
   "outputs": [
    {
     "data": {
      "text/plain": [
       "1.0"
      ]
     },
     "execution_count": 29,
     "metadata": {},
     "output_type": "execute_result"
    }
   ],
   "source": [
    "np.max(train_data.__getitem__(1500)[0])"
   ]
  },
  {
   "cell_type": "code",
   "execution_count": 27,
   "metadata": {},
   "outputs": [
    {
     "data": {
      "text/plain": [
       "-3629.3413"
      ]
     },
     "execution_count": 27,
     "metadata": {},
     "output_type": "execute_result"
    }
   ],
   "source": [
    "train_data.__getitem__(1500)[0].sum()"
   ]
  },
  {
   "cell_type": "code",
   "execution_count": 28,
   "metadata": {},
   "outputs": [
    {
     "data": {
      "text/plain": [
       "<matplotlib.image.AxesImage at 0x7fb4a8ee6950>"
      ]
     },
     "execution_count": 28,
     "metadata": {},
     "output_type": "execute_result"
    },
    {
     "data": {
      "image/png": "[encoded data removed]",
      "text/plain": [
       "<Figure size 432x288 with 1 Axes>"
      ]
     },
     "metadata": {
      "needs_background": "light"
     },
     "output_type": "display_data"
    }
   ],
   "source": [
    "plt.imshow(train_data.__getitem__(1500)[0])"
   ]
  },
  {
   "cell_type": "code",
   "execution_count": 8,
   "metadata": {},
   "outputs": [
    {
     "data": {
      "text/plain": [
       "array([1, 0])"
      ]
     },
     "execution_count": 8,
     "metadata": {},
     "output_type": "execute_result"
    }
   ],
   "source": [
    "train_data.__getitem__(2000)[1]"
   ]
  },
  {
   "cell_type": "code",
   "execution_count": 9,
   "metadata": {},
   "outputs": [],
   "source": [
    "train_data = Batcher(train_data, batch_size=5)\n",
    "val_data = Batcher(val_data, batch_size=5)\n",
    "test_data = Batcher(test_data, batch_size=5)"
   ]
  },
  {
   "cell_type": "code",
   "execution_count": null,
   "metadata": {},
   "outputs": [],
   "source": []
  },
  {
   "cell_type": "code",
   "execution_count": 39,
   "metadata": {},
   "outputs": [
    {
     "data": {
      "text/plain": [
       "['__class__',\n",
       " '__delattr__',\n",
       " '__dict__',\n",
       " '__dir__',\n",
       " '__doc__',\n",
       " '__eq__',\n",
       " '__format__',\n",
       " '__ge__',\n",
       " '__getattribute__',\n",
       " '__getitem__',\n",
       " '__gt__',\n",
       " '__hash__',\n",
       " '__init__',\n",
       " '__init_subclass__',\n",
       " '__iter__',\n",
       " '__le__',\n",
       " '__len__',\n",
       " '__lt__',\n",
       " '__module__',\n",
       " '__ne__',\n",
       " '__new__',\n",
       " '__reduce__',\n",
       " '__reduce_ex__',\n",
       " '__repr__',\n",
       " '__setattr__',\n",
       " '__sizeof__',\n",
       " '__str__',\n",
       " '__subclasshook__',\n",
       " '__weakref__',\n",
       " '_batch_size',\n",
       " '_idxs',\n",
       " '_keras_api_names',\n",
       " '_keras_api_names_v1',\n",
       " '_sequence',\n",
       " '_stack',\n",
       " 'on_epoch_end']"
      ]
     },
     "execution_count": 39,
     "metadata": {},
     "output_type": "execute_result"
    }
   ],
   "source": [
    "dir(train_data)"
   ]
  },
  {
   "cell_type": "code",
   "execution_count": 40,
   "metadata": {},
   "outputs": [
    {
     "data": {
      "text/plain": [
       "(5, 64, 64, 1)"
      ]
     },
     "execution_count": 40,
     "metadata": {},
     "output_type": "execute_result"
    }
   ],
   "source": [
    "train_data.__getitem__(0)[0].shape"
   ]
  },
  {
   "cell_type": "code",
   "execution_count": 41,
   "metadata": {},
   "outputs": [
    {
     "data": {
      "text/plain": [
       "array([[0, 1],\n",
       "       [0, 1],\n",
       "       [0, 1],\n",
       "       [0, 1],\n",
       "       [0, 1]])"
      ]
     },
     "execution_count": 41,
     "metadata": {},
     "output_type": "execute_result"
    }
   ],
   "source": [
    "train_data.__getitem__(0)[1]"
   ]
  },
  {
   "cell_type": "code",
   "execution_count": 42,
   "metadata": {},
   "outputs": [],
   "source": [
    "class GridMERAin16(tf.keras.layers.Layer):\n",
    "    \n",
    "    def __init__(self, kernel_dims, bond_dims, output_dims):\n",
    "        super(GridMERAin16, self).__init__()\n",
    "        # Create the variables for the layer.\n",
    "        # In this case, the input tensor is (, 1936), we factorize it into a tensor (, 11, 11, 16)\n",
    "        # first_dim: output shape?\n",
    "        # second_dim: connect with data tensor\n",
    "        # third_dim: inter-connect\n",
    "        in_dims = int((kernel_dims//4)**2)\n",
    "        self.entanglers = []\n",
    "        self.isometries= []\n",
    "        self.kernel_dims = kernel_dims\n",
    "        self.output_dims = output_dims\n",
    "        #entanglers\n",
    "        self.entanglers1 = tf.Variable(tf.random.normal\n",
    "                                             (shape=(in_dims, in_dims, \n",
    "                                                     in_dims, in_dims, bond_dims, bond_dims, bond_dims, bond_dims),\n",
    "                                              stddev=1.0/10000), \n",
    "                                              trainable=True)\n",
    "        self.entanglers2 = tf.Variable(tf.random.normal\n",
    "                                             (shape=(bond_dims, bond_dims, \n",
    "                                                     bond_dims, bond_dims, bond_dims, bond_dims, bond_dims, bond_dims),\n",
    "                                              stddev=1.0/10000), \n",
    "                                              trainable=True)\n",
    "        # isometries\n",
    "        self.isometries1 = [tf.Variable(tf.random.normal(shape=(in_dims, in_dims, in_dims, \n",
    "                                                                            bond_dims, bond_dims)\n",
    "                                                                     , stddev=1.0/10*10000),\n",
    "                                            trainable=True), \n",
    "                           tf.Variable(tf.random.normal(shape=(in_dims, in_dims, bond_dims, \n",
    "                                                                            in_dims, bond_dims)\n",
    "                                                                     , stddev=1.0/10*10000),\n",
    "                                            trainable=True),\n",
    "                           tf.Variable(tf.random.normal(shape=(in_dims, bond_dims, in_dims, \n",
    "                                                                            in_dims, bond_dims)\n",
    "                                                                     , stddev=1.0/10*10000),\n",
    "                                            trainable=True),\n",
    "                           tf.Variable(tf.random.normal(shape=(bond_dims, in_dims, in_dims, \n",
    "                                                                            in_dims, bond_dims)\n",
    "                                                                     , stddev=1.0/10*10000),\n",
    "                                            trainable=True)]\n",
    "        \n",
    "        self.isometries2 = tf.Variable(tf.random.normal(shape=(bond_dims, bond_dims, bond_dims, \n",
    "                                                                            bond_dims, output_dims)\n",
    "                                                                     , stddev=1.0/10*10000),\n",
    "                                            trainable=True)\n",
    "\n",
    "        #print(self.final_mps.shape)\n",
    "        self.bias = tf.Variable(tf.zeros(shape=(output_dims,)), name=\"bias\", trainable=True)\n",
    "\n",
    "\n",
    "    def call(self, inputs):\n",
    "        # Define the contraction.\n",
    "        # We break it out so we can parallelize a batch using tf.vectorized_map.\n",
    "        def f(input_vec, entanglers1, entanglers2, isometries1, isometries2, bias_var, kernel_dims):\n",
    "            input_vv = []\n",
    "            step = int(kernel_dims//4)\n",
    "            for i in range(4):\n",
    "                for ii in range(4):\n",
    "                    input_vv.append(tf.reshape(input_vec[i*step:i*step+step, ii*step:ii*step+step, 0], (1, step**2)))\n",
    "            input_vec = tf.concat(input_vv, axis=0)\n",
    "            input_vec = tf.reshape(input_vec, (16, step**2))\n",
    "            input_vec = tf.unstack(input_vec)\n",
    "            input_nodes = []\n",
    "            for e_iv in input_vec:\n",
    "                input_nodes.append(tn.Node(e_iv))\n",
    "            \n",
    "            e_nodes1 = tn.Node(entanglers1)\n",
    "            e_nodes2 = tn.Node(entanglers2)\n",
    "                \n",
    "                                     \n",
    "            isometries_nodes1 = []\n",
    "            for eiso in isometries1:\n",
    "                isometries_nodes1.append(tn.Node(eiso))\n",
    "            isometries_nodes2 = tn.Node(isometries2)\n",
    "            \n",
    "            \n",
    "            e_nodes1[0] ^ input_nodes[5][0]\n",
    "            e_nodes1[1] ^ input_nodes[6][0]\n",
    "            e_nodes1[2] ^ input_nodes[9][0]\n",
    "            e_nodes1[3] ^ input_nodes[10][0]\n",
    "\n",
    "            e_nodes1[4] ^ isometries_nodes1[0][3]\n",
    "            e_nodes1[5] ^ isometries_nodes1[1][2]\n",
    "            e_nodes1[6] ^ isometries_nodes1[2][1]\n",
    "            e_nodes1[7] ^ isometries_nodes1[3][0]     \n",
    "            \n",
    "            input_nodes[0][0] ^ isometries_nodes1[0][0]\n",
    "            input_nodes[1][0] ^ isometries_nodes1[0][1]\n",
    "            input_nodes[4][0] ^ isometries_nodes1[0][2]\n",
    "            \n",
    "            input_nodes[2][0] ^ isometries_nodes1[1][0]\n",
    "            input_nodes[3][0] ^ isometries_nodes1[1][1]\n",
    "            input_nodes[7][0] ^ isometries_nodes1[1][3]\n",
    "            \n",
    "            input_nodes[8][0] ^ isometries_nodes1[2][0]\n",
    "            input_nodes[12][0] ^ isometries_nodes1[2][2]\n",
    "            input_nodes[13][0] ^ isometries_nodes1[2][3]\n",
    "            \n",
    "            input_nodes[11][0] ^ isometries_nodes1[3][1]\n",
    "            input_nodes[14][0] ^ isometries_nodes1[3][2]\n",
    "            input_nodes[15][0] ^ isometries_nodes1[3][3]\n",
    "            \n",
    "            \n",
    "            isometries_nodes1[0][4] ^ e_nodes2[0]\n",
    "            isometries_nodes1[1][4] ^ e_nodes2[1]\n",
    "            isometries_nodes1[2][4] ^ e_nodes2[2]\n",
    "            isometries_nodes1[3][4] ^ e_nodes2[3]\n",
    "\n",
    "            e_nodes2[4] ^ isometries_nodes2[0]\n",
    "            e_nodes2[5] ^ isometries_nodes2[1]\n",
    "            e_nodes2[6] ^ isometries_nodes2[2]\n",
    "            e_nodes2[7] ^ isometries_nodes2[3]\n",
    "\n",
    "                            \n",
    "            nodes = tn.reachable(isometries_nodes2)\n",
    "            result = tn.contractors.greedy(nodes)\n",
    "            result = result.tensor\n",
    "            #print(result)\n",
    "            #result = (c @ b).tensor\n",
    "            # Finally, add bias.\n",
    "            return result + bias_var\n",
    "\n",
    "        # To deal with a batch of items, we can use the tf.vectorized_map function.\n",
    "        # https://www.tensorflow.org/api_docs/python/tf/vectorized_map\n",
    "        output = tf.vectorized_map(lambda vec: f(vec, self.entanglers1, self.entanglers2,\n",
    "                                                 self.isometries1,  self.isometries2, self.bias, self.kernel_dims), inputs)\n",
    "        return tf.reshape(output, (-1, self.output_dims))"
   ]
  },
  {
   "cell_type": "code",
   "execution_count": 43,
   "metadata": {},
   "outputs": [],
   "source": [
    "from tensorflow.keras.layers import Lambda, Input, Concatenate, Reshape, Softmax\n",
    "from tensorflow.keras.models import Model, Sequential\n",
    "\n",
    "def get_model(input_shape=(64, 64, 1)):\n",
    "    x_in = Input(shape=input_shape)\n",
    "    x_out_list = []\n",
    "    for i in range(8):\n",
    "        for j in range(8):\n",
    "            subx = Lambda(lambda x:x[:, 8*i:8*(i+1),8*j:8*(j+1),:] )(x_in)\n",
    "            x_out_list.append(GridMERAin16(kernel_dims=8, bond_dims=2, output_dims=1)(subx))\n",
    "    x_out = Concatenate(axis=1)(x_out_list)\n",
    "    x_out = Reshape(target_shape=(8, 8, 1))(x_out)\n",
    "    y = GridMERAin16(kernel_dims=8, bond_dims=2, output_dims=2)(x_out)\n",
    "    y = Softmax()(y)\n",
    "    return Model(inputs=x_in, outputs=y)"
   ]
  },
  {
   "cell_type": "code",
   "execution_count": 1,
   "metadata": {},
   "outputs": [],
   "source": [
    "def get_deep_model(input_shape=(64, 64, 1)):\n",
    "    x_in = Input(shape=input_shape)\n",
    "    x_in2_list = []\n",
    "    for i in range(16):\n",
    "        for j in range(16):\n",
    "            subx = Lambda(lambda x:x[:, 4*i:4*(i+1),4*j:4*(j+1),:] )(x_in)\n",
    "            x_in2_list.append(GridMERAin16(kernel_dims=1, bond_dims=2, output_dims=1)(subx))\n",
    "    x_in2 = Concatenate(axis=1)(x_out_list)\n",
    "    x_in2 = Reshape(target_shape=(16, 16, 1))(x_in2)\n",
    "    x_out_list = []\n",
    "    for i in range(4):\n",
    "        for j in range(4):\n",
    "            subx = Lambda(lambda x:x[:, 4*i:4*(i+1),4*j:4*(j+1),:] )(x_in2)\n",
    "            x_out_list.append(GridMERAin16(kernel_dims=1, bond_dims=2, output_dims=1)(subx))\n",
    "    x_out = Concatenate(axis=1)(x_out_list)\n",
    "    x_out = Reshape(target_shape=(4, 4, 1))(x_out)\n",
    "    y = GridMERAin16(kernel_dims=1, bond_dims=2, output_dims=2)(x_out)\n",
    "    y = Softmax()(y)\n",
    "    return Model(inputs=x_in, outputs=y)"
   ]
  },
  {
   "cell_type": "code",
   "execution_count": 44,
   "metadata": {},
   "outputs": [],
   "source": [
    "MERA_model_64 = get_model(input_shape=(64, 64, 1))"
   ]
  },
  {
   "cell_type": "code",
   "execution_count": 45,
   "metadata": {},
   "outputs": [
    {
     "name": "stdout",
     "output_type": "stream",
     "text": [
      "Model: \"model\"\n",
      "__________________________________________________________________________________________________\n",
      "Layer (type)                    Output Shape         Param #     Connected to                     \n",
      "==================================================================================================\n",
      "input_1 (InputLayer)            [(None, 64, 64, 1)]  0                                            \n",
      "__________________________________________________________________________________________________\n",
      "lambda (Lambda)                 (None, 8, 8, 1)      0           input_1[0][0]                    \n",
      "__________________________________________________________________________________________________\n",
      "lambda_1 (Lambda)               (None, 8, 8, 1)      0           input_1[0][0]                    \n",
      "__________________________________________________________________________________________________\n",
      "lambda_2 (Lambda)               (None, 8, 8, 1)      0           input_1[0][0]                    \n",
      "__________________________________________________________________________________________________\n",
      "lambda_3 (Lambda)               (None, 8, 8, 1)      0           input_1[0][0]                    \n",
      "__________________________________________________________________________________________________\n",
      "lambda_4 (Lambda)               (None, 8, 8, 1)      0           input_1[0][0]                    \n",
      "__________________________________________________________________________________________________\n",
      "lambda_5 (Lambda)               (None, 8, 8, 1)      0           input_1[0][0]                    \n",
      "__________________________________________________________________________________________________\n",
      "lambda_6 (Lambda)               (None, 8, 8, 1)      0           input_1[0][0]                    \n",
      "__________________________________________________________________________________________________\n",
      "lambda_7 (Lambda)               (None, 8, 8, 1)      0           input_1[0][0]                    \n",
      "__________________________________________________________________________________________________\n",
      "lambda_8 (Lambda)               (None, 8, 8, 1)      0           input_1[0][0]                    \n",
      "__________________________________________________________________________________________________\n",
      "lambda_9 (Lambda)               (None, 8, 8, 1)      0           input_1[0][0]                    \n",
      "__________________________________________________________________________________________________\n",
      "lambda_10 (Lambda)              (None, 8, 8, 1)      0           input_1[0][0]                    \n",
      "__________________________________________________________________________________________________\n",
      "lambda_11 (Lambda)              (None, 8, 8, 1)      0           input_1[0][0]                    \n",
      "__________________________________________________________________________________________________\n",
      "lambda_12 (Lambda)              (None, 8, 8, 1)      0           input_1[0][0]                    \n",
      "__________________________________________________________________________________________________\n",
      "lambda_13 (Lambda)              (None, 8, 8, 1)      0           input_1[0][0]                    \n",
      "__________________________________________________________________________________________________\n",
      "lambda_14 (Lambda)              (None, 8, 8, 1)      0           input_1[0][0]                    \n",
      "__________________________________________________________________________________________________\n",
      "lambda_15 (Lambda)              (None, 8, 8, 1)      0           input_1[0][0]                    \n",
      "__________________________________________________________________________________________________\n",
      "lambda_16 (Lambda)              (None, 8, 8, 1)      0           input_1[0][0]                    \n",
      "__________________________________________________________________________________________________\n",
      "lambda_17 (Lambda)              (None, 8, 8, 1)      0           input_1[0][0]                    \n",
      "__________________________________________________________________________________________________\n",
      "lambda_18 (Lambda)              (None, 8, 8, 1)      0           input_1[0][0]                    \n",
      "__________________________________________________________________________________________________\n",
      "lambda_19 (Lambda)              (None, 8, 8, 1)      0           input_1[0][0]                    \n",
      "__________________________________________________________________________________________________\n",
      "lambda_20 (Lambda)              (None, 8, 8, 1)      0           input_1[0][0]                    \n",
      "__________________________________________________________________________________________________\n",
      "lambda_21 (Lambda)              (None, 8, 8, 1)      0           input_1[0][0]                    \n",
      "__________________________________________________________________________________________________\n",
      "lambda_22 (Lambda)              (None, 8, 8, 1)      0           input_1[0][0]                    \n",
      "__________________________________________________________________________________________________\n",
      "lambda_23 (Lambda)              (None, 8, 8, 1)      0           input_1[0][0]                    \n",
      "__________________________________________________________________________________________________\n",
      "lambda_24 (Lambda)              (None, 8, 8, 1)      0           input_1[0][0]                    \n",
      "__________________________________________________________________________________________________\n",
      "lambda_25 (Lambda)              (None, 8, 8, 1)      0           input_1[0][0]                    \n",
      "__________________________________________________________________________________________________\n",
      "lambda_26 (Lambda)              (None, 8, 8, 1)      0           input_1[0][0]                    \n",
      "__________________________________________________________________________________________________\n",
      "lambda_27 (Lambda)              (None, 8, 8, 1)      0           input_1[0][0]                    \n",
      "__________________________________________________________________________________________________\n",
      "lambda_28 (Lambda)              (None, 8, 8, 1)      0           input_1[0][0]                    \n",
      "__________________________________________________________________________________________________\n",
      "lambda_29 (Lambda)              (None, 8, 8, 1)      0           input_1[0][0]                    \n",
      "__________________________________________________________________________________________________\n",
      "lambda_30 (Lambda)              (None, 8, 8, 1)      0           input_1[0][0]                    \n",
      "__________________________________________________________________________________________________\n",
      "lambda_31 (Lambda)              (None, 8, 8, 1)      0           input_1[0][0]                    \n",
      "__________________________________________________________________________________________________\n",
      "lambda_32 (Lambda)              (None, 8, 8, 1)      0           input_1[0][0]                    \n",
      "__________________________________________________________________________________________________\n",
      "lambda_33 (Lambda)              (None, 8, 8, 1)      0           input_1[0][0]                    \n",
      "__________________________________________________________________________________________________\n",
      "lambda_34 (Lambda)              (None, 8, 8, 1)      0           input_1[0][0]                    \n",
      "__________________________________________________________________________________________________\n",
      "lambda_35 (Lambda)              (None, 8, 8, 1)      0           input_1[0][0]                    \n",
      "__________________________________________________________________________________________________\n",
      "lambda_36 (Lambda)              (None, 8, 8, 1)      0           input_1[0][0]                    \n",
      "__________________________________________________________________________________________________\n",
      "lambda_37 (Lambda)              (None, 8, 8, 1)      0           input_1[0][0]                    \n",
      "__________________________________________________________________________________________________\n",
      "lambda_38 (Lambda)              (None, 8, 8, 1)      0           input_1[0][0]                    \n",
      "__________________________________________________________________________________________________\n",
      "lambda_39 (Lambda)              (None, 8, 8, 1)      0           input_1[0][0]                    \n",
      "__________________________________________________________________________________________________\n",
      "lambda_40 (Lambda)              (None, 8, 8, 1)      0           input_1[0][0]                    \n",
      "__________________________________________________________________________________________________\n",
      "lambda_41 (Lambda)              (None, 8, 8, 1)      0           input_1[0][0]                    \n",
      "__________________________________________________________________________________________________\n",
      "lambda_42 (Lambda)              (None, 8, 8, 1)      0           input_1[0][0]                    \n",
      "__________________________________________________________________________________________________\n",
      "lambda_43 (Lambda)              (None, 8, 8, 1)      0           input_1[0][0]                    \n",
      "__________________________________________________________________________________________________\n",
      "lambda_44 (Lambda)              (None, 8, 8, 1)      0           input_1[0][0]                    \n",
      "__________________________________________________________________________________________________\n",
      "lambda_45 (Lambda)              (None, 8, 8, 1)      0           input_1[0][0]                    \n",
      "__________________________________________________________________________________________________\n",
      "lambda_46 (Lambda)              (None, 8, 8, 1)      0           input_1[0][0]                    \n",
      "__________________________________________________________________________________________________\n",
      "lambda_47 (Lambda)              (None, 8, 8, 1)      0           input_1[0][0]                    \n",
      "__________________________________________________________________________________________________\n",
      "lambda_48 (Lambda)              (None, 8, 8, 1)      0           input_1[0][0]                    \n",
      "__________________________________________________________________________________________________\n",
      "lambda_49 (Lambda)              (None, 8, 8, 1)      0           input_1[0][0]                    \n",
      "__________________________________________________________________________________________________\n",
      "lambda_50 (Lambda)              (None, 8, 8, 1)      0           input_1[0][0]                    \n",
      "__________________________________________________________________________________________________\n",
      "lambda_51 (Lambda)              (None, 8, 8, 1)      0           input_1[0][0]                    \n",
      "__________________________________________________________________________________________________\n",
      "lambda_52 (Lambda)              (None, 8, 8, 1)      0           input_1[0][0]                    \n",
      "__________________________________________________________________________________________________\n",
      "lambda_53 (Lambda)              (None, 8, 8, 1)      0           input_1[0][0]                    \n",
      "__________________________________________________________________________________________________\n",
      "lambda_54 (Lambda)              (None, 8, 8, 1)      0           input_1[0][0]                    \n",
      "__________________________________________________________________________________________________\n",
      "lambda_55 (Lambda)              (None, 8, 8, 1)      0           input_1[0][0]                    \n",
      "__________________________________________________________________________________________________\n",
      "lambda_56 (Lambda)              (None, 8, 8, 1)      0           input_1[0][0]                    \n",
      "__________________________________________________________________________________________________\n",
      "lambda_57 (Lambda)              (None, 8, 8, 1)      0           input_1[0][0]                    \n",
      "__________________________________________________________________________________________________\n",
      "lambda_58 (Lambda)              (None, 8, 8, 1)      0           input_1[0][0]                    \n",
      "__________________________________________________________________________________________________\n",
      "lambda_59 (Lambda)              (None, 8, 8, 1)      0           input_1[0][0]                    \n",
      "__________________________________________________________________________________________________\n",
      "lambda_60 (Lambda)              (None, 8, 8, 1)      0           input_1[0][0]                    \n",
      "__________________________________________________________________________________________________\n",
      "lambda_61 (Lambda)              (None, 8, 8, 1)      0           input_1[0][0]                    \n",
      "__________________________________________________________________________________________________\n",
      "lambda_62 (Lambda)              (None, 8, 8, 1)      0           input_1[0][0]                    \n",
      "__________________________________________________________________________________________________\n",
      "lambda_63 (Lambda)              (None, 8, 8, 1)      0           input_1[0][0]                    \n",
      "__________________________________________________________________________________________________\n",
      "grid_mer_ain16 (GridMERAin16)   (None, 1)            5393        lambda[0][0]                     \n",
      "__________________________________________________________________________________________________\n",
      "grid_mer_ain16_1 (GridMERAin16) (None, 1)            5393        lambda_1[0][0]                   \n",
      "__________________________________________________________________________________________________\n",
      "grid_mer_ain16_2 (GridMERAin16) (None, 1)            5393        lambda_2[0][0]                   \n",
      "__________________________________________________________________________________________________\n",
      "grid_mer_ain16_3 (GridMERAin16) (None, 1)            5393        lambda_3[0][0]                   \n",
      "__________________________________________________________________________________________________\n",
      "grid_mer_ain16_4 (GridMERAin16) (None, 1)            5393        lambda_4[0][0]                   \n",
      "__________________________________________________________________________________________________\n",
      "grid_mer_ain16_5 (GridMERAin16) (None, 1)            5393        lambda_5[0][0]                   \n",
      "__________________________________________________________________________________________________\n",
      "grid_mer_ain16_6 (GridMERAin16) (None, 1)            5393        lambda_6[0][0]                   \n",
      "__________________________________________________________________________________________________\n",
      "grid_mer_ain16_7 (GridMERAin16) (None, 1)            5393        lambda_7[0][0]                   \n",
      "__________________________________________________________________________________________________\n",
      "grid_mer_ain16_8 (GridMERAin16) (None, 1)            5393        lambda_8[0][0]                   \n",
      "__________________________________________________________________________________________________\n",
      "grid_mer_ain16_9 (GridMERAin16) (None, 1)            5393        lambda_9[0][0]                   \n",
      "__________________________________________________________________________________________________\n",
      "grid_mer_ain16_10 (GridMERAin16 (None, 1)            5393        lambda_10[0][0]                  \n",
      "__________________________________________________________________________________________________\n",
      "grid_mer_ain16_11 (GridMERAin16 (None, 1)            5393        lambda_11[0][0]                  \n",
      "__________________________________________________________________________________________________\n",
      "grid_mer_ain16_12 (GridMERAin16 (None, 1)            5393        lambda_12[0][0]                  \n",
      "__________________________________________________________________________________________________\n",
      "grid_mer_ain16_13 (GridMERAin16 (None, 1)            5393        lambda_13[0][0]                  \n",
      "__________________________________________________________________________________________________\n",
      "grid_mer_ain16_14 (GridMERAin16 (None, 1)            5393        lambda_14[0][0]                  \n",
      "__________________________________________________________________________________________________\n",
      "grid_mer_ain16_15 (GridMERAin16 (None, 1)            5393        lambda_15[0][0]                  \n",
      "__________________________________________________________________________________________________\n",
      "grid_mer_ain16_16 (GridMERAin16 (None, 1)            5393        lambda_16[0][0]                  \n",
      "__________________________________________________________________________________________________\n",
      "grid_mer_ain16_17 (GridMERAin16 (None, 1)            5393        lambda_17[0][0]                  \n",
      "__________________________________________________________________________________________________\n",
      "grid_mer_ain16_18 (GridMERAin16 (None, 1)            5393        lambda_18[0][0]                  \n",
      "__________________________________________________________________________________________________\n",
      "grid_mer_ain16_19 (GridMERAin16 (None, 1)            5393        lambda_19[0][0]                  \n",
      "__________________________________________________________________________________________________\n",
      "grid_mer_ain16_20 (GridMERAin16 (None, 1)            5393        lambda_20[0][0]                  \n",
      "__________________________________________________________________________________________________\n",
      "grid_mer_ain16_21 (GridMERAin16 (None, 1)            5393        lambda_21[0][0]                  \n",
      "__________________________________________________________________________________________________\n",
      "grid_mer_ain16_22 (GridMERAin16 (None, 1)            5393        lambda_22[0][0]                  \n",
      "__________________________________________________________________________________________________\n",
      "grid_mer_ain16_23 (GridMERAin16 (None, 1)            5393        lambda_23[0][0]                  \n",
      "__________________________________________________________________________________________________\n",
      "grid_mer_ain16_24 (GridMERAin16 (None, 1)            5393        lambda_24[0][0]                  \n",
      "__________________________________________________________________________________________________\n",
      "grid_mer_ain16_25 (GridMERAin16 (None, 1)            5393        lambda_25[0][0]                  \n",
      "__________________________________________________________________________________________________\n",
      "grid_mer_ain16_26 (GridMERAin16 (None, 1)            5393        lambda_26[0][0]                  \n",
      "__________________________________________________________________________________________________\n",
      "grid_mer_ain16_27 (GridMERAin16 (None, 1)            5393        lambda_27[0][0]                  \n",
      "__________________________________________________________________________________________________\n",
      "grid_mer_ain16_28 (GridMERAin16 (None, 1)            5393        lambda_28[0][0]                  \n",
      "__________________________________________________________________________________________________\n",
      "grid_mer_ain16_29 (GridMERAin16 (None, 1)            5393        lambda_29[0][0]                  \n",
      "__________________________________________________________________________________________________\n",
      "grid_mer_ain16_30 (GridMERAin16 (None, 1)            5393        lambda_30[0][0]                  \n",
      "__________________________________________________________________________________________________\n",
      "grid_mer_ain16_31 (GridMERAin16 (None, 1)            5393        lambda_31[0][0]                  \n",
      "__________________________________________________________________________________________________\n",
      "grid_mer_ain16_32 (GridMERAin16 (None, 1)            5393        lambda_32[0][0]                  \n",
      "__________________________________________________________________________________________________\n",
      "grid_mer_ain16_33 (GridMERAin16 (None, 1)            5393        lambda_33[0][0]                  \n",
      "__________________________________________________________________________________________________\n",
      "grid_mer_ain16_34 (GridMERAin16 (None, 1)            5393        lambda_34[0][0]                  \n",
      "__________________________________________________________________________________________________\n",
      "grid_mer_ain16_35 (GridMERAin16 (None, 1)            5393        lambda_35[0][0]                  \n",
      "__________________________________________________________________________________________________\n",
      "grid_mer_ain16_36 (GridMERAin16 (None, 1)            5393        lambda_36[0][0]                  \n",
      "__________________________________________________________________________________________________\n",
      "grid_mer_ain16_37 (GridMERAin16 (None, 1)            5393        lambda_37[0][0]                  \n",
      "__________________________________________________________________________________________________\n",
      "grid_mer_ain16_38 (GridMERAin16 (None, 1)            5393        lambda_38[0][0]                  \n",
      "__________________________________________________________________________________________________\n",
      "grid_mer_ain16_39 (GridMERAin16 (None, 1)            5393        lambda_39[0][0]                  \n",
      "__________________________________________________________________________________________________\n",
      "grid_mer_ain16_40 (GridMERAin16 (None, 1)            5393        lambda_40[0][0]                  \n",
      "__________________________________________________________________________________________________\n",
      "grid_mer_ain16_41 (GridMERAin16 (None, 1)            5393        lambda_41[0][0]                  \n",
      "__________________________________________________________________________________________________\n",
      "grid_mer_ain16_42 (GridMERAin16 (None, 1)            5393        lambda_42[0][0]                  \n",
      "__________________________________________________________________________________________________\n",
      "grid_mer_ain16_43 (GridMERAin16 (None, 1)            5393        lambda_43[0][0]                  \n",
      "__________________________________________________________________________________________________\n",
      "grid_mer_ain16_44 (GridMERAin16 (None, 1)            5393        lambda_44[0][0]                  \n",
      "__________________________________________________________________________________________________\n",
      "grid_mer_ain16_45 (GridMERAin16 (None, 1)            5393        lambda_45[0][0]                  \n",
      "__________________________________________________________________________________________________\n",
      "grid_mer_ain16_46 (GridMERAin16 (None, 1)            5393        lambda_46[0][0]                  \n",
      "__________________________________________________________________________________________________\n",
      "grid_mer_ain16_47 (GridMERAin16 (None, 1)            5393        lambda_47[0][0]                  \n",
      "__________________________________________________________________________________________________\n",
      "grid_mer_ain16_48 (GridMERAin16 (None, 1)            5393        lambda_48[0][0]                  \n",
      "__________________________________________________________________________________________________\n",
      "grid_mer_ain16_49 (GridMERAin16 (None, 1)            5393        lambda_49[0][0]                  \n",
      "__________________________________________________________________________________________________\n",
      "grid_mer_ain16_50 (GridMERAin16 (None, 1)            5393        lambda_50[0][0]                  \n",
      "__________________________________________________________________________________________________\n",
      "grid_mer_ain16_51 (GridMERAin16 (None, 1)            5393        lambda_51[0][0]                  \n",
      "__________________________________________________________________________________________________\n",
      "grid_mer_ain16_52 (GridMERAin16 (None, 1)            5393        lambda_52[0][0]                  \n",
      "__________________________________________________________________________________________________\n",
      "grid_mer_ain16_53 (GridMERAin16 (None, 1)            5393        lambda_53[0][0]                  \n",
      "__________________________________________________________________________________________________\n",
      "grid_mer_ain16_54 (GridMERAin16 (None, 1)            5393        lambda_54[0][0]                  \n",
      "__________________________________________________________________________________________________\n",
      "grid_mer_ain16_55 (GridMERAin16 (None, 1)            5393        lambda_55[0][0]                  \n",
      "__________________________________________________________________________________________________\n",
      "grid_mer_ain16_56 (GridMERAin16 (None, 1)            5393        lambda_56[0][0]                  \n",
      "__________________________________________________________________________________________________\n",
      "grid_mer_ain16_57 (GridMERAin16 (None, 1)            5393        lambda_57[0][0]                  \n",
      "__________________________________________________________________________________________________\n",
      "grid_mer_ain16_58 (GridMERAin16 (None, 1)            5393        lambda_58[0][0]                  \n",
      "__________________________________________________________________________________________________\n",
      "grid_mer_ain16_59 (GridMERAin16 (None, 1)            5393        lambda_59[0][0]                  \n",
      "__________________________________________________________________________________________________\n",
      "grid_mer_ain16_60 (GridMERAin16 (None, 1)            5393        lambda_60[0][0]                  \n",
      "__________________________________________________________________________________________________\n",
      "grid_mer_ain16_61 (GridMERAin16 (None, 1)            5393        lambda_61[0][0]                  \n",
      "__________________________________________________________________________________________________\n",
      "grid_mer_ain16_62 (GridMERAin16 (None, 1)            5393        lambda_62[0][0]                  \n",
      "__________________________________________________________________________________________________\n",
      "grid_mer_ain16_63 (GridMERAin16 (None, 1)            5393        lambda_63[0][0]                  \n",
      "__________________________________________________________________________________________________\n",
      "concatenate (Concatenate)       (None, 64)           0           grid_mer_ain16[0][0]             \n",
      "                                                                 grid_mer_ain16_1[0][0]           \n",
      "                                                                 grid_mer_ain16_2[0][0]           \n",
      "                                                                 grid_mer_ain16_3[0][0]           \n",
      "                                                                 grid_mer_ain16_4[0][0]           \n",
      "                                                                 grid_mer_ain16_5[0][0]           \n",
      "                                                                 grid_mer_ain16_6[0][0]           \n",
      "                                                                 grid_mer_ain16_7[0][0]           \n",
      "                                                                 grid_mer_ain16_8[0][0]           \n",
      "                                                                 grid_mer_ain16_9[0][0]           \n",
      "                                                                 grid_mer_ain16_10[0][0]          \n",
      "                                                                 grid_mer_ain16_11[0][0]          \n",
      "                                                                 grid_mer_ain16_12[0][0]          \n",
      "                                                                 grid_mer_ain16_13[0][0]          \n",
      "                                                                 grid_mer_ain16_14[0][0]          \n",
      "                                                                 grid_mer_ain16_15[0][0]          \n",
      "                                                                 grid_mer_ain16_16[0][0]          \n",
      "                                                                 grid_mer_ain16_17[0][0]          \n",
      "                                                                 grid_mer_ain16_18[0][0]          \n",
      "                                                                 grid_mer_ain16_19[0][0]          \n",
      "                                                                 grid_mer_ain16_20[0][0]          \n",
      "                                                                 grid_mer_ain16_21[0][0]          \n",
      "                                                                 grid_mer_ain16_22[0][0]          \n",
      "                                                                 grid_mer_ain16_23[0][0]          \n",
      "                                                                 grid_mer_ain16_24[0][0]          \n",
      "                                                                 grid_mer_ain16_25[0][0]          \n",
      "                                                                 grid_mer_ain16_26[0][0]          \n",
      "                                                                 grid_mer_ain16_27[0][0]          \n",
      "                                                                 grid_mer_ain16_28[0][0]          \n",
      "                                                                 grid_mer_ain16_29[0][0]          \n",
      "                                                                 grid_mer_ain16_30[0][0]          \n",
      "                                                                 grid_mer_ain16_31[0][0]          \n",
      "                                                                 grid_mer_ain16_32[0][0]          \n",
      "                                                                 grid_mer_ain16_33[0][0]          \n",
      "                                                                 grid_mer_ain16_34[0][0]          \n",
      "                                                                 grid_mer_ain16_35[0][0]          \n",
      "                                                                 grid_mer_ain16_36[0][0]          \n",
      "                                                                 grid_mer_ain16_37[0][0]          \n",
      "                                                                 grid_mer_ain16_38[0][0]          \n",
      "                                                                 grid_mer_ain16_39[0][0]          \n",
      "                                                                 grid_mer_ain16_40[0][0]          \n",
      "                                                                 grid_mer_ain16_41[0][0]          \n",
      "                                                                 grid_mer_ain16_42[0][0]          \n",
      "                                                                 grid_mer_ain16_43[0][0]          \n",
      "                                                                 grid_mer_ain16_44[0][0]          \n",
      "                                                                 grid_mer_ain16_45[0][0]          \n",
      "                                                                 grid_mer_ain16_46[0][0]          \n",
      "                                                                 grid_mer_ain16_47[0][0]          \n",
      "                                                                 grid_mer_ain16_48[0][0]          \n",
      "                                                                 grid_mer_ain16_49[0][0]          \n",
      "                                                                 grid_mer_ain16_50[0][0]          \n",
      "                                                                 grid_mer_ain16_51[0][0]          \n",
      "                                                                 grid_mer_ain16_52[0][0]          \n",
      "                                                                 grid_mer_ain16_53[0][0]          \n",
      "                                                                 grid_mer_ain16_54[0][0]          \n",
      "                                                                 grid_mer_ain16_55[0][0]          \n",
      "                                                                 grid_mer_ain16_56[0][0]          \n",
      "                                                                 grid_mer_ain16_57[0][0]          \n",
      "                                                                 grid_mer_ain16_58[0][0]          \n",
      "                                                                 grid_mer_ain16_59[0][0]          \n",
      "                                                                 grid_mer_ain16_60[0][0]          \n",
      "                                                                 grid_mer_ain16_61[0][0]          \n",
      "                                                                 grid_mer_ain16_62[0][0]          \n",
      "                                                                 grid_mer_ain16_63[0][0]          \n",
      "__________________________________________________________________________________________________\n",
      "reshape (Reshape)               (None, 8, 8, 1)      0           concatenate[0][0]                \n",
      "__________________________________________________________________________________________________\n",
      "grid_mer_ain16_64 (GridMERAin16 (None, 2)            5410        reshape[0][0]                    \n",
      "__________________________________________________________________________________________________\n",
      "softmax (Softmax)               (None, 2)            0           grid_mer_ain16_64[0][0]          \n",
      "==================================================================================================\n",
      "Total params: 350,562\n",
      "Trainable params: 350,562\n",
      "Non-trainable params: 0\n",
      "__________________________________________________________________________________________________\n"
     ]
    }
   ],
   "source": [
    "MERA_model_64.summary()"
   ]
  },
  {
   "cell_type": "code",
   "execution_count": null,
   "metadata": {},
   "outputs": [
    {
     "name": "stdout",
     "output_type": "stream",
     "text": [
      "WARNING:tensorflow:From <timed exec>:3: Model.fit_generator (from tensorflow.python.keras.engine.training) is deprecated and will be removed in a future version.\n",
      "Instructions for updating:\n",
      "Please use Model.fit, which supports generators.\n"
     ]
    },
    {
     "name": "stderr",
     "output_type": "stream",
     "text": [
      "WARNING:tensorflow:From <timed exec>:3: Model.fit_generator (from tensorflow.python.keras.engine.training) is deprecated and will be removed in a future version.\n",
      "Instructions for updating:\n",
      "Please use Model.fit, which supports generators.\n"
     ]
    },
    {
     "name": "stdout",
     "output_type": "stream",
     "text": [
      "WARNING:tensorflow:sample_weight modes were coerced from\n",
      "  ...\n",
      "    to  \n",
      "  ['...']\n"
     ]
    },
    {
     "name": "stderr",
     "output_type": "stream",
     "text": [
      "WARNING:tensorflow:sample_weight modes were coerced from\n",
      "  ...\n",
      "    to  \n",
      "  ['...']\n"
     ]
    },
    {
     "name": "stdout",
     "output_type": "stream",
     "text": [
      "WARNING:tensorflow:sample_weight modes were coerced from\n",
      "  ...\n",
      "    to  \n",
      "  ['...']\n"
     ]
    },
    {
     "name": "stderr",
     "output_type": "stream",
     "text": [
      "WARNING:tensorflow:sample_weight modes were coerced from\n",
      "  ...\n",
      "    to  \n",
      "  ['...']\n"
     ]
    },
    {
     "name": "stdout",
     "output_type": "stream",
     "text": [
      "Train for 600 steps, validate for 200 steps\n",
      "Epoch 1/50\n"
     ]
    }
   ],
   "source": [
    "%%time\n",
    "\n",
    "# TensorNetwork model\n",
    "MERA_model_64.compile(loss='categorical_crossentropy', optimizer=tf.keras.optimizers.Adam(), metrics=['accuracy'])\n",
    "MERA_model_64_hist = MERA_model_64.fit_generator(train_data, validation_data=val_data, epochs=50, verbose=1)"
   ]
  },
  {
   "cell_type": "code",
   "execution_count": null,
   "metadata": {},
   "outputs": [],
   "source": []
  },
  {
   "cell_type": "code",
   "execution_count": 17,
   "metadata": {},
   "outputs": [
    {
     "ename": "ModuleNotFoundError",
     "evalue": "No module named 'torch'",
     "output_type": "error",
     "traceback": [
      "\u001b[0;31m---------------------------------------------------------------------------\u001b[0m",
      "\u001b[0;31mModuleNotFoundError\u001b[0m                       Traceback (most recent call last)",
      "\u001b[0;32m<ipython-input-17-c9551b912dc2>\u001b[0m in \u001b[0;36m<module>\u001b[0;34m\u001b[0m\n\u001b[1;32m      1\u001b[0m \u001b[0;31m# ReadMNIST64\u001b[0m\u001b[0;34m\u001b[0m\u001b[0;34m\u001b[0m\u001b[0;34m\u001b[0m\u001b[0m\n\u001b[1;32m      2\u001b[0m \u001b[0;32mimport\u001b[0m \u001b[0mos\u001b[0m\u001b[0;34m\u001b[0m\u001b[0;34m\u001b[0m\u001b[0m\n\u001b[0;32m----> 3\u001b[0;31m \u001b[0;32mimport\u001b[0m \u001b[0mtorch\u001b[0m\u001b[0;34m\u001b[0m\u001b[0;34m\u001b[0m\u001b[0m\n\u001b[0m\u001b[1;32m      4\u001b[0m \u001b[0;32mimport\u001b[0m \u001b[0margparse\u001b[0m\u001b[0;34m\u001b[0m\u001b[0;34m\u001b[0m\u001b[0m\n\u001b[1;32m      5\u001b[0m \u001b[0;32mimport\u001b[0m \u001b[0mnumpy\u001b[0m \u001b[0;32mas\u001b[0m \u001b[0mnp\u001b[0m\u001b[0;34m\u001b[0m\u001b[0;34m\u001b[0m\u001b[0m\n",
      "\u001b[0;31mModuleNotFoundError\u001b[0m: No module named 'torch'"
     ]
    }
   ],
   "source": [
    "# ReadMNIST64\n",
    "import os\n",
    "import torch\n",
    "import argparse\n",
    "import numpy as np\n",
    "from data.cluttered_mnist.dataset import ClutteredMNISTDataset\n",
    "from train import train\n",
    "\n",
    "\n",
    "def get_datasets(data_path, data_scaling, data_balance, batch_size, num_examples):\n",
    "    dataset = ClutteredMNISTDataset\n",
    "\n",
    "    train_dataset = dataset(data_path, os.path.join(data_path, 'train.csv'),\n",
    "                            data_scaling, num_examples, data_balance)\n",
    "\n",
    "    weights = torch.Tensor(train_dataset.weights)\n",
    "    # over and undersamples..\n",
    "    sampler = torch.utils.data.sampler.WeightedRandomSampler(weights, len(train_dataset))\n",
    "\n",
    "    train_loader = torch.utils.data.DataLoader(\n",
    "        train_dataset, batch_size=batch_size, num_workers=8, sampler=sampler, pin_memory=True)\n",
    "    train_val_loader = torch.utils.data.DataLoader(\n",
    "        train_dataset, batch_size=batch_size, shuffle=False, num_workers=8)\n",
    "\n",
    "    val_dataset = dataset(data_path, os.path.join(data_path, 'val.csv'), data_scaling)\n",
    "    val_loader = torch.utils.data.DataLoader(\n",
    "        val_dataset, batch_size=batch_size, shuffle=False, num_workers=8)\n",
    "\n",
    "    test_dataset = dataset(data_path, os.path.join(data_path, 'test.csv'), data_scaling)\n",
    "    test_loader = torch.utils.data.DataLoader(\n",
    "        test_dataset, batch_size=batch_size, num_workers=8, shuffle=False)\n",
    "\n",
    "    return train_loader, train_val_loader, val_loader, test_loader"
   ]
  },
  {
   "cell_type": "code",
   "execution_count": null,
   "metadata": {},
   "outputs": [],
   "source": [
    "import numpy as np\n",
    "import keras\n",
    "\n",
    "class DataGenerator(keras.utils.Sequence):\n",
    "    'Generates data for Keras'\n",
    "    def __init__(self, list_IDs, labels, batch_size=32, dim=(32,32,32), n_channels=1,\n",
    "                 n_classes=10, shuffle=True):\n",
    "        'Initialization'\n",
    "        self.dim = dim\n",
    "        self.batch_size = batch_size\n",
    "        self.labels = labels\n",
    "        self.list_IDs = list_IDs\n",
    "        self.n_channels = n_channels\n",
    "        self.n_classes = n_classes\n",
    "        self.shuffle = shuffle\n",
    "        self.on_epoch_end()\n",
    "\n",
    "    def __len__(self):\n",
    "        'Denotes the number of batches per epoch'\n",
    "        return int(np.floor(len(self.list_IDs) / self.batch_size))\n",
    "\n",
    "    def __getitem__(self, index):\n",
    "        'Generate one batch of data'\n",
    "        # Generate indexes of the batch\n",
    "        indexes = self.indexes[index*self.batch_size:(index+1)*self.batch_size]\n",
    "\n",
    "        # Find list of IDs\n",
    "        list_IDs_temp = [self.list_IDs[k] for k in indexes]\n",
    "\n",
    "        # Generate data\n",
    "        X, y = self.__data_generation(list_IDs_temp)\n",
    "\n",
    "        return X, y\n",
    "\n",
    "    def on_epoch_end(self):\n",
    "        'Updates indexes after each epoch'\n",
    "        self.indexes = np.arange(len(self.list_IDs))\n",
    "        if self.shuffle == True:\n",
    "            np.random.shuffle(self.indexes)\n",
    "\n",
    "    def __data_generation(self, list_IDs_temp):\n",
    "        'Generates data containing batch_size samples' # X : (n_samples, *dim, n_channels)\n",
    "        # Initialization\n",
    "        X = np.empty((self.batch_size, *self.dim, self.n_channels))\n",
    "        y = np.empty((self.batch_size), dtype=int)\n",
    "\n",
    "        # Generate data\n",
    "        for i, ID in enumerate(list_IDs_temp):\n",
    "            # Store sample\n",
    "            X[i,] = np.load('data/' + ID + '.npy')\n",
    "\n",
    "            # Store class\n",
    "            y[i] = self.labels[ID]\n",
    "\n",
    "        return X, keras.utils.to_categorical(y, num_classes=self.n_classes)"
   ]
  }
 ],
 "metadata": {
  "kernelspec": {
   "display_name": "Python 3",
   "language": "python",
   "name": "python3"
  },
  "language_info": {
   "codemirror_mode": {
    "name": "ipython",
    "version": 3
   },
   "file_extension": ".py",
   "mimetype": "text/x-python",
   "name": "python",
   "nbconvert_exporter": "python",
   "pygments_lexer": "ipython3",
   "version": "3.7.9"
  }
 },
 "nbformat": 4,
 "nbformat_minor": 4
}
