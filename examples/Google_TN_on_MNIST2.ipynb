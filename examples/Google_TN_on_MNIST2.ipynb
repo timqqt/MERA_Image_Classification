{
 "cells": [
  {
   "cell_type": "markdown",
   "metadata": {
    "colab_type": "text",
    "id": "8XnVMPBXmtRa"
   },
   "source": [
    "# TensorNetworks in Neural Networks.\n",
    "\n",
    "Training the MNIST dataset using tensornetwork package from google.\n",
    "#### Reference: https://github.com/google/TensorNetwork"
   ]
  },
  {
   "cell_type": "code",
   "execution_count": 14,
   "metadata": {
    "colab": {
     "base_uri": "https://localhost:8080/",
     "height": 423
    },
    "colab_type": "code",
    "id": "7HGRsYNAFxME",
    "outputId": "9189982e-51fe-4bb3-9124-2f01a3c933c8"
   },
   "outputs": [],
   "source": [
    "import numpy as np\n",
    "import matplotlib.pyplot as plt\n",
    "import tensorflow as tf\n",
    "tf.compat.v1.enable_v2_behavior()\n",
    "import tensornetwork as tn\n",
    "tn.set_default_backend(\"tensorflow\")"
   ]
  },
  {
   "cell_type": "markdown",
   "metadata": {},
   "source": [
    "# Load MNIST dataset from Keras"
   ]
  },
  {
   "cell_type": "code",
   "execution_count": 15,
   "metadata": {},
   "outputs": [],
   "source": [
    "(x_train, y_train), (x_test, y_test) = tf.keras.datasets.mnist.load_data(\"/home/xiaochen/Fanjie/scripts/TensorNetwork/data/mnist.npz\")"
   ]
  },
  {
   "cell_type": "code",
   "execution_count": 16,
   "metadata": {},
   "outputs": [
    {
     "name": "stdout",
     "output_type": "stream",
     "text": [
      "(60000, 28, 28, 1) (60000, 10)\n",
      "(10000, 28, 28, 1) (10000, 10)\n",
      "[[0. 0. 0. ... 0. 0. 0.]\n",
      " [1. 0. 0. ... 0. 0. 0.]\n",
      " [0. 0. 0. ... 0. 0. 0.]\n",
      " ...\n",
      " [0. 0. 0. ... 0. 0. 0.]\n",
      " [0. 0. 0. ... 0. 0. 0.]\n",
      " [0. 0. 0. ... 0. 1. 0.]]\n"
     ]
    }
   ],
   "source": [
    "from keras.utils import to_categorical\n",
    "\n",
    "x_train = x_train.reshape((60000, 28, 28, 1))\n",
    "y_train = to_categorical(y_train, 10)\n",
    "x_test = x_test.reshape((10000, 28, 28, 1))\n",
    "y_test = to_categorical(y_test, 10)\n",
    "\n",
    "print(x_train.shape, y_train.shape)\n",
    "print(x_test.shape, y_test.shape)\n",
    "print(y_train)"
   ]
  },
  {
   "cell_type": "markdown",
   "metadata": {
    "colab_type": "text",
    "id": "g1OMCo5XmrYu"
   },
   "source": [
    "# TensorNetwork layer definition\n",
    "\n",
    "Here, we define the TensorNetwork layer we wish to use to replace the fully connected layer. Here, we simply use a 2 node Matrix Product Operator network to replace the normal dense weight matrix."
   ]
  },
  {
   "cell_type": "code",
   "execution_count": 17,
   "metadata": {},
   "outputs": [
    {
     "name": "stdout",
     "output_type": "stream",
     "text": [
      "tf.Tensor(1000000.0, shape=(), dtype=float64)\n",
      "tf.Tensor(1000000.0, shape=(), dtype=float64)\n"
     ]
    }
   ],
   "source": [
    "def one_edge_at_a_time(a, b):\n",
    "  node1 = tn.Node(a)\n",
    "  node2 = tn.Node(b)\n",
    "  edge1 = node1[0] ^ node2[0]\n",
    "  edge2 = node1[1] ^ node2[1]\n",
    "  tn.contract(edge1)\n",
    "  result = tn.contract(edge2)\n",
    "  return result.tensor\n",
    "\n",
    "def use_contract_between(a, b):\n",
    "  node1 = tn.Node(a)\n",
    "  node2 = tn.Node(b)\n",
    "  node1[0] ^ node2[0]\n",
    "  node1[1] ^ node2[1]\n",
    "  # This is the same as \n",
    "  # tn.contract_between(node1, node2)\n",
    "  result = node1 @ node2\n",
    "  return result.tensor\n",
    "\n",
    "a = np.ones((1000, 1000))\n",
    "b = np.ones((1000, 1000))\n",
    "\n",
    "print(one_edge_at_a_time(a, b))\n",
    "print(use_contract_between(a, b))"
   ]
  },
  {
   "cell_type": "code",
   "execution_count": 18,
   "metadata": {},
   "outputs": [
    {
     "data": {
      "text/plain": [
       "<tf.Tensor: id=545, shape=(10,), dtype=float64, numpy=\n",
       "array([1000000., 1000000., 1000000., 1000000., 1000000., 1000000.,\n",
       "       1000000., 1000000., 1000000., 1000000.])>"
      ]
     },
     "execution_count": 18,
     "metadata": {},
     "output_type": "execute_result"
    }
   ],
   "source": [
    "a1 = [one_edge_at_a_time(a, b) for i in range(10)]\n",
    "tf.stack(a1)"
   ]
  },
  {
   "cell_type": "markdown",
   "metadata": {},
   "source": [
    "# Modules for ConvAC\n",
    "Tensor Network version of CNN."
   ]
  },
  {
   "cell_type": "code",
   "execution_count": 45,
   "metadata": {},
   "outputs": [],
   "source": [
    "class TNConvLayer(tf.keras.layers.Layer):\n",
    "    \n",
    "    def __init__(self, fov, inputShape,name):\n",
    "        super(TNConvLayer, self).__init__()\n",
    "        # Create the variables for the layer.\n",
    "        self.variable = tf.Variable(tf.random.normal(shape=(3, 3), stddev=1.0/9), \n",
    "                                    name=\"conv_kernel_\"+name, trainable=True)\n",
    "        self.fov = fov\n",
    "        self.inputShape = inputShape\n",
    "        self.outputShape = (self.inputShape[0]-fov+1,  self.inputShape[1]-fov+1)\n",
    "        self.bias = tf.Variable(tf.zeros(shape=self.outputShape), name=\"bias\"+name, trainable=True)\n",
    "       \n",
    "    def call(self, inputs):\n",
    "        # Define the contraction.\n",
    "        # We break it out so we can parallelize a batch using tf.vectorized_map.\n",
    "        def f(input_vec, conv_var, bias_var):\n",
    "            # Reshape to a matrix instead of a vector.\n",
    "            #L, W = input_vec.shape[:2]\n",
    "            input_vec = tf.reshape(input_vec, self.inputShape)\n",
    "            result_list = []\n",
    "            for i in range(0,  self.outputShape[0]):\n",
    "                for j in range(0, self.outputShape[1]):\n",
    "                    d = tn.Node(input_vec[i:i+3, j:j+3])\n",
    "                    v = tn.Node(conv_var)\n",
    "                    d[0] ^ v[0]\n",
    "                    d[1] ^ v[1]\n",
    "                    result = v @ d\n",
    "                    result_list.append(result.tensor)\n",
    "            final_result = tf.stack(result_list)\n",
    "            final_result = tf.reshape(final_result, (self.outputShape[0], self.outputShape[1], 1))\n",
    "            # Now we create the network.\n",
    "            # Finally, add bias.\n",
    "            return result\n",
    "\n",
    "        # To deal with a batch of items, we can use the tf.vectorized_map function.\n",
    "        # https://www.tensorflow.org/api_docs/python/tf/vectorized_map\n",
    "        result = tf.vectorized_map(lambda vec: f(vec, self.variable, self.bias), inputs)\n",
    "        return tf.nn.relu(self.bias + tf.reshape(result, (-1, self.outputShape[0], self.outputShape[1], 1)))"
   ]
  },
  {
   "cell_type": "code",
   "execution_count": 29,
   "metadata": {
    "colab": {},
    "colab_type": "code",
    "id": "wvSMKtPufnLp"
   },
   "outputs": [],
   "source": [
    "class TNLayer(tf.keras.layers.Layer):\n",
    "    \n",
    "    def __init__(self, dim):\n",
    "        super(TNLayer, self).__init__()\n",
    "        # Create the variables for the layer.\n",
    "        self.dim = dim\n",
    "        self.a_var = tf.Variable(tf.random.normal(shape=(dim, dim, 2), stddev=1.0/dim), name=\"a\", trainable=True)\n",
    "        self.b_var = tf.Variable(tf.random.normal(shape=(dim, dim, 2), stddev=1.0/dim), name=\"b\", trainable=True)\n",
    "        self.bias = tf.Variable(tf.zeros(shape=(dim, dim)), name=\"bias\", trainable=True)\n",
    "\n",
    "    def call(self, inputs):\n",
    "        # Define the contraction.\n",
    "        # We break it out so we can parallelize a batch using tf.vectorized_map.\n",
    "        def f(input_vec, a_var, b_var, bias_var):\n",
    "            # Reshape to a matrix instead of a vector.\n",
    "            input_vec = tf.reshape(input_vec, (self.dim, self.dim))\n",
    "\n",
    "            # Now we create the network.\n",
    "            a = tn.Node(a_var)\n",
    "            b = tn.Node(b_var)\n",
    "            x_node = tn.Node(input_vec)\n",
    "            a[1] ^ x_node[0]\n",
    "            b[1] ^ x_node[1]\n",
    "            a[2] ^ b[2]\n",
    "\n",
    "            # The TN should now look like this\n",
    "            #   |     |\n",
    "            #   a --- b\n",
    "            #    \\   /\n",
    "            #      x\n",
    "\n",
    "            # Now we begin the contraction.\n",
    "            c = a @ x_node\n",
    "            result = (c @ b).tensor\n",
    "\n",
    "            # Finally, add bias.\n",
    "            return result + bias_var\n",
    "\n",
    "        # To deal with a batch of items, we can use the tf.vectorized_map function.\n",
    "        # https://www.tensorflow.org/api_docs/python/tf/vectorized_map\n",
    "        result = tf.vectorized_map(lambda vec: f(vec, self.a_var, self.b_var, self.bias), inputs)\n",
    "        return tf.nn.relu(tf.reshape(result, (-1, self.dim**2)))"
   ]
  },
  {
   "cell_type": "code",
   "execution_count": 30,
   "metadata": {},
   "outputs": [],
   "source": [
    "class TriNodeTNLayer(tf.keras.layers.Layer):\n",
    "    \n",
    "    def __init__(self, dim, n_nodes):\n",
    "        super(TriNodeTNLayer, self).__init__()\n",
    "        # Create the variables for the layer.\n",
    "        # In this case, the input tensor is (, 1936), we factorize it into a tensor (, 11, 11, 16)\n",
    "        # first_dim: output shape?\n",
    "        # second_dim: connect with data tensor\n",
    "        # third_dim: inter-connect\n",
    "        self.dim = dim\n",
    "        self.a_var = tf.Variable(tf.random.normal(shape=(11, 11, 2), stddev=1.0/dim), name=\"a\", trainable=True)\n",
    "        self.b_var = tf.Variable(tf.random.normal(shape=(11, 11, 2, 2), stddev=1.0/dim), name=\"b\", trainable=True)\n",
    "        self.c_var = tf.Variable(tf.random.normal(shape=(16, 16, 2), stddev=1.0/dim), name=\"b\", trainable=True)\n",
    "        \n",
    "        self.bias = tf.Variable(tf.zeros(shape=(11, 11, 16)), name=\"bias\", trainable=True)\n",
    "\n",
    "    def call(self, inputs):\n",
    "        # Define the contraction.\n",
    "        # We break it out so we can parallelize a batch using tf.vectorized_map.\n",
    "        def f(input_vec, a_var, b_var, c_var, bias_var):\n",
    "            # Reshape to a matrix instead of a vector.\n",
    "            input_vec = tf.reshape(input_vec, (11, 11, 16))\n",
    "\n",
    "            # Now we create the network.\n",
    "            a = tn.Node(a_var)\n",
    "            b = tn.Node(b_var)\n",
    "            c = tn.Node(c_var)\n",
    "            x_node = tn.Node(input_vec)\n",
    "            a[1] ^ x_node[0]\n",
    "            b[1] ^ x_node[1]\n",
    "            c[1] ^ x_node[2]\n",
    "            a[2] ^ b[2]\n",
    "            b[3] ^ c[2]\n",
    "            \n",
    "\n",
    "            # The TN should now look like this\n",
    "            #   |     |     |\n",
    "            #   a --- b --- c\n",
    "            #    \\   |     /\n",
    "            #        x\n",
    "\n",
    "            # Now we begin the contraction.\n",
    "            # c1 = a @ x_node # avoid trace edge?\n",
    "            # c2 = c1 @ b\n",
    "            c1 = a @ x_node\n",
    "            c2 = c1 @ b\n",
    "            c3 = c2 @ c\n",
    "            result = c3.tensor\n",
    "            #nodes = tn.reachable(x_node)\n",
    "            #result = tn.contractors.greedy(nodes)\n",
    "            print(result)\n",
    "            \n",
    "            #result = (c @ b).tensor\n",
    "\n",
    "            # Finally, add bias.\n",
    "            return result + bias_var\n",
    "\n",
    "        # To deal with a batch of items, we can use the tf.vectorized_map function.\n",
    "        # https://www.tensorflow.org/api_docs/python/tf/vectorized_map\n",
    "        result = tf.vectorized_map(lambda vec: f(vec, self.a_var, self.b_var, self.c_var, self.bias), inputs)\n",
    "        return tf.nn.relu(tf.reshape(result, (-1, self.dim**2)))"
   ]
  },
  {
   "cell_type": "code",
   "execution_count": 31,
   "metadata": {},
   "outputs": [],
   "source": [
    "class MultiNodeTNLayer(tf.keras.layers.Layer):\n",
    "    \n",
    "    def __init__(self, dim):\n",
    "        super(MultiNodeTNLayer, self).__init__()\n",
    "        # Create the variables for the layer.\n",
    "        # In this case, the input tensor is (, 1936), we factorize it into a tensor (, 11, 11, 16)\n",
    "        # first_dim: output shape?\n",
    "        # second_dim: connect with data tensor\n",
    "        # third_dim: inter-connect\n",
    "        self.dim = dim\n",
    "        assert len(self.dim) > 2, \"This layer is only used for where the number of input dims is larger than 3.\"\n",
    "        self.var_list = [tf.Variable(tf.random.normal(shape=(dim[0], dim[0], 2), stddev=1.0/(2*dim[0])), \n",
    "                                     name=\"var_\"+str(1), trainable=True)] \n",
    "        self.var_list.extend([tf.Variable(tf.random.normal(shape=(dim[i], dim[i], 2, 2), stddev=1.0/(2*dim[i])), \n",
    "                                     name=\"var_\"+str(i+1), trainable=True) for i in range(1, len(dim)-1)])\n",
    "        self.var_list.extend([tf.Variable(tf.random.normal(shape=(dim[-1], dim[-1], 2), stddev=1.0/(2*dim[-1])), \n",
    "                                     name=\"var_\"+str(len(dim)), trainable=True)])\n",
    "    \n",
    "        self.bias = tf.Variable(tf.zeros(shape=dim), name=\"bias\", trainable=True)\n",
    "\n",
    "    def call(self, inputs):\n",
    "        # Define the contraction.\n",
    "        # We break it out so we can parallelize a batch using tf.vectorized_map.\n",
    "        def f(input_vec, var_list, bias_var):\n",
    "            # Reshape to a matrix instead of a vector.\n",
    "            input_vec = tf.reshape(input_vec, self.dim)\n",
    "\n",
    "            # Now we create the network.\n",
    "            nodes_list = [tn.Node(var_list[i]) for i in range(len(var_list))]\n",
    "            x_node = tn.Node(input_vec)\n",
    "            #assert False\n",
    "            var_list[0][1] ^ x_node[0]\n",
    "            \n",
    "            for i in range(len(self.dim)):\n",
    "                var_list[i][1] ^ x_node[i]\n",
    "            \n",
    "            assert False\n",
    "            var_list[0][2] ^ var_list[1][2]\n",
    "            for i in range(1, len(var_list)-1):\n",
    "                var_list[i][3] ^ var_list[i+1][2]\n",
    "                \n",
    "#             a[1] ^ x_node[0]\n",
    "#             b[1] ^ x_node[1]\n",
    "#             c[1] ^ x_node[2]\n",
    "#             a[2] ^ b[2]\n",
    "#             b[3] ^ c[2]\n",
    "            \n",
    "\n",
    "            # The TN should now look like this\n",
    "            #     |     |     |\n",
    "            #    a --- ... --- c\n",
    "            #    \\ ...  | ...  /\n",
    "            #           x\n",
    "\n",
    "            # Now we begin the contraction.\n",
    "            # c1 = a @ x_node # avoid trace edge?\n",
    "            # c2 = c1 @ b\n",
    "            \n",
    "            result = var_list[0] @ x_node\n",
    "            for i in range(1, len(var_list)):\n",
    "                result @= var_list[i]\n",
    "            #c2 = c1 @ b\n",
    "            #c3 = c2 @ c\n",
    "            result = result.tensor\n",
    "            #nodes = tn.reachable(x_node)\n",
    "            #result = tn.contractors.greedy(nodes)\n",
    "            #print(result)\n",
    "            \n",
    "            #result = (c @ b).tensor\n",
    "\n",
    "            # Finally, add bias.\n",
    "            return result + bias_var\n",
    "\n",
    "        # To deal with a batch of items, we can use the tf.vectorized_map function.\n",
    "        # https://www.tensorflow.org/api_docs/python/tf/vectorized_map\n",
    "        result = tf.vectorized_map(lambda vec: f(vec, self.var_list, self.bias), inputs)\n",
    "        return tf.nn.relu(tf.reshape(result, (-1, self.dim**2)))"
   ]
  },
  {
   "cell_type": "markdown",
   "metadata": {
    "colab_type": "text",
    "id": "V-CVqIhPnhY_"
   },
   "source": [
    "# Dense model vs. TN model\n",
    "The TN layer has nearly 100x fewer parameters in this particular architecture."
   ]
  },
  {
   "cell_type": "code",
   "execution_count": 46,
   "metadata": {},
   "outputs": [
    {
     "name": "stdout",
     "output_type": "stream",
     "text": [
      "WARNING:tensorflow:Entity <bound method TNConvLayer.call of <__main__.TNConvLayer object at 0x7f388419e610>> could not be transformed and will be executed as-is. Please report this to the AutgoGraph team. When filing the bug, set the verbosity to 10 (on Linux, `export AUTOGRAPH_VERBOSITY=10`) and attach the full output. Cause: converting <bound method TNConvLayer.call of <__main__.TNConvLayer object at 0x7f388419e610>>: AttributeError: module 'gast' has no attribute 'Num'\n",
      "WARNING: Entity <bound method TNConvLayer.call of <__main__.TNConvLayer object at 0x7f388419e610>> could not be transformed and will be executed as-is. Please report this to the AutgoGraph team. When filing the bug, set the verbosity to 10 (on Linux, `export AUTOGRAPH_VERBOSITY=10`) and attach the full output. Cause: converting <bound method TNConvLayer.call of <__main__.TNConvLayer object at 0x7f388419e610>>: AttributeError: module 'gast' has no attribute 'Num'\n"
     ]
    },
    {
     "ename": "AssertionError",
     "evalue": "in converted code:\n\n    <ipython-input-45-50bdc692682a>:37 call\n        result = tf.vectorized_map(lambda vec: f(vec, self.variable, self.bias), inputs)\n    /home/xiaochen/anaconda3/envs/pytorchkfj/lib/python3.7/site-packages/tensorflow/python/ops/parallel_for/control_flow_ops.py:338 vectorized_map\n        return pfor(loop_fn, batch_size)\n    /home/xiaochen/anaconda3/envs/pytorchkfj/lib/python3.7/site-packages/tensorflow/python/ops/parallel_for/control_flow_ops.py:164 pfor\n        return f()\n    /home/xiaochen/anaconda3/envs/pytorchkfj/lib/python3.7/site-packages/tensorflow/python/ops/parallel_for/control_flow_ops.py:161 f\n        return _pfor_impl(loop_fn, iters, parallel_iterations=parallel_iterations)\n    /home/xiaochen/anaconda3/envs/pytorchkfj/lib/python3.7/site-packages/tensorflow/python/ops/parallel_for/control_flow_ops.py:214 _pfor_impl\n        outputs.append(converter.convert(loop_fn_output))\n    /home/xiaochen/anaconda3/envs/pytorchkfj/lib/python3.7/site-packages/tensorflow/python/ops/parallel_for/pfor.py:1175 convert\n        output = self._convert_helper(y)\n    /home/xiaochen/anaconda3/envs/pytorchkfj/lib/python3.7/site-packages/tensorflow/python/ops/parallel_for/pfor.py:1208 _convert_helper\n        assert isinstance(y, ops.Tensor), y\n\n    AssertionError: __unnamed_node__\n",
     "output_type": "error",
     "traceback": [
      "\u001b[0;31m---------------------------------------------------------------------------\u001b[0m",
      "\u001b[0;31mAssertionError\u001b[0m                            Traceback (most recent call last)",
      "\u001b[0;32m<ipython-input-46-42c4a7c25fab>\u001b[0m in \u001b[0;36m<module>\u001b[0;34m\u001b[0m\n\u001b[1;32m      4\u001b[0m \u001b[0mtn_model\u001b[0m \u001b[0;34m=\u001b[0m \u001b[0mtf\u001b[0m\u001b[0;34m.\u001b[0m\u001b[0mkeras\u001b[0m\u001b[0;34m.\u001b[0m\u001b[0mSequential\u001b[0m\u001b[0;34m(\u001b[0m\u001b[0;34m)\u001b[0m\u001b[0;34m\u001b[0m\u001b[0;34m\u001b[0m\u001b[0m\n\u001b[1;32m      5\u001b[0m \u001b[0mtn_model\u001b[0m\u001b[0;34m.\u001b[0m\u001b[0madd\u001b[0m\u001b[0;34m(\u001b[0m\u001b[0mInput\u001b[0m\u001b[0;34m(\u001b[0m\u001b[0mshape\u001b[0m\u001b[0;34m=\u001b[0m\u001b[0;34m(\u001b[0m\u001b[0;36m28\u001b[0m\u001b[0;34m,\u001b[0m \u001b[0;36m28\u001b[0m\u001b[0;34m,\u001b[0m \u001b[0;36m1\u001b[0m\u001b[0;34m)\u001b[0m\u001b[0;34m)\u001b[0m\u001b[0;34m)\u001b[0m\u001b[0;34m\u001b[0m\u001b[0;34m\u001b[0m\u001b[0m\n\u001b[0;32m----> 6\u001b[0;31m \u001b[0mtn_model\u001b[0m\u001b[0;34m.\u001b[0m\u001b[0madd\u001b[0m\u001b[0;34m(\u001b[0m\u001b[0mTNConvLayer\u001b[0m\u001b[0;34m(\u001b[0m\u001b[0mfov\u001b[0m\u001b[0;34m=\u001b[0m\u001b[0;36m3\u001b[0m\u001b[0;34m,\u001b[0m \u001b[0minputShape\u001b[0m\u001b[0;34m=\u001b[0m\u001b[0;34m(\u001b[0m\u001b[0;36m28\u001b[0m\u001b[0;34m,\u001b[0m \u001b[0;36m28\u001b[0m\u001b[0;34m)\u001b[0m\u001b[0;34m,\u001b[0m\u001b[0mname\u001b[0m\u001b[0;34m=\u001b[0m\u001b[0;34m'conv1'\u001b[0m\u001b[0;34m)\u001b[0m\u001b[0;34m)\u001b[0m\u001b[0;34m\u001b[0m\u001b[0;34m\u001b[0m\u001b[0m\n\u001b[0m\u001b[1;32m      7\u001b[0m \u001b[0mtn_model\u001b[0m\u001b[0;34m.\u001b[0m\u001b[0madd\u001b[0m\u001b[0;34m(\u001b[0m\u001b[0mConv2D\u001b[0m\u001b[0;34m(\u001b[0m\u001b[0;36m32\u001b[0m\u001b[0;34m,\u001b[0m \u001b[0mkernel_size\u001b[0m\u001b[0;34m=\u001b[0m\u001b[0;34m(\u001b[0m\u001b[0;36m3\u001b[0m\u001b[0;34m,\u001b[0m\u001b[0;36m3\u001b[0m\u001b[0;34m)\u001b[0m\u001b[0;34m,\u001b[0m \u001b[0mactivation\u001b[0m\u001b[0;34m=\u001b[0m\u001b[0;34m'relu'\u001b[0m\u001b[0;34m,\u001b[0m \u001b[0mname\u001b[0m\u001b[0;34m=\u001b[0m\u001b[0;34m'conv2'\u001b[0m\u001b[0;34m)\u001b[0m\u001b[0;34m)\u001b[0m\u001b[0;34m\u001b[0m\u001b[0;34m\u001b[0m\u001b[0m\n\u001b[1;32m      8\u001b[0m \u001b[0mtn_model\u001b[0m\u001b[0;34m.\u001b[0m\u001b[0madd\u001b[0m\u001b[0;34m(\u001b[0m\u001b[0mConv2D\u001b[0m\u001b[0;34m(\u001b[0m\u001b[0;36m16\u001b[0m\u001b[0;34m,\u001b[0m \u001b[0mkernel_size\u001b[0m\u001b[0;34m=\u001b[0m\u001b[0;34m(\u001b[0m\u001b[0;36m3\u001b[0m\u001b[0;34m,\u001b[0m\u001b[0;36m3\u001b[0m\u001b[0;34m)\u001b[0m\u001b[0;34m,\u001b[0m \u001b[0mactivation\u001b[0m\u001b[0;34m=\u001b[0m\u001b[0;34m'relu'\u001b[0m\u001b[0;34m,\u001b[0m \u001b[0mname\u001b[0m\u001b[0;34m=\u001b[0m\u001b[0;34m'conv3'\u001b[0m\u001b[0;34m)\u001b[0m\u001b[0;34m)\u001b[0m\u001b[0;34m\u001b[0m\u001b[0;34m\u001b[0m\u001b[0m\n",
      "\u001b[0;32m~/anaconda3/envs/pytorchkfj/lib/python3.7/site-packages/tensorflow/python/training/tracking/base.py\u001b[0m in \u001b[0;36m_method_wrapper\u001b[0;34m(self, *args, **kwargs)\u001b[0m\n\u001b[1;32m    455\u001b[0m     \u001b[0mself\u001b[0m\u001b[0;34m.\u001b[0m\u001b[0m_self_setattr_tracking\u001b[0m \u001b[0;34m=\u001b[0m \u001b[0;32mFalse\u001b[0m  \u001b[0;31m# pylint: disable=protected-access\u001b[0m\u001b[0;34m\u001b[0m\u001b[0;34m\u001b[0m\u001b[0m\n\u001b[1;32m    456\u001b[0m     \u001b[0;32mtry\u001b[0m\u001b[0;34m:\u001b[0m\u001b[0;34m\u001b[0m\u001b[0;34m\u001b[0m\u001b[0m\n\u001b[0;32m--> 457\u001b[0;31m       \u001b[0mresult\u001b[0m \u001b[0;34m=\u001b[0m \u001b[0mmethod\u001b[0m\u001b[0;34m(\u001b[0m\u001b[0mself\u001b[0m\u001b[0;34m,\u001b[0m \u001b[0;34m*\u001b[0m\u001b[0margs\u001b[0m\u001b[0;34m,\u001b[0m \u001b[0;34m**\u001b[0m\u001b[0mkwargs\u001b[0m\u001b[0;34m)\u001b[0m\u001b[0;34m\u001b[0m\u001b[0;34m\u001b[0m\u001b[0m\n\u001b[0m\u001b[1;32m    458\u001b[0m     \u001b[0;32mfinally\u001b[0m\u001b[0;34m:\u001b[0m\u001b[0;34m\u001b[0m\u001b[0;34m\u001b[0m\u001b[0m\n\u001b[1;32m    459\u001b[0m       \u001b[0mself\u001b[0m\u001b[0;34m.\u001b[0m\u001b[0m_self_setattr_tracking\u001b[0m \u001b[0;34m=\u001b[0m \u001b[0mprevious_value\u001b[0m  \u001b[0;31m# pylint: disable=protected-access\u001b[0m\u001b[0;34m\u001b[0m\u001b[0;34m\u001b[0m\u001b[0m\n",
      "\u001b[0;32m~/anaconda3/envs/pytorchkfj/lib/python3.7/site-packages/tensorflow/python/keras/engine/sequential.py\u001b[0m in \u001b[0;36madd\u001b[0;34m(self, layer)\u001b[0m\n\u001b[1;32m    190\u001b[0m       \u001b[0;31m# If the model is being built continuously on top of an input layer:\u001b[0m\u001b[0;34m\u001b[0m\u001b[0;34m\u001b[0m\u001b[0;34m\u001b[0m\u001b[0m\n\u001b[1;32m    191\u001b[0m       \u001b[0;31m# refresh its output.\u001b[0m\u001b[0;34m\u001b[0m\u001b[0;34m\u001b[0m\u001b[0;34m\u001b[0m\u001b[0m\n\u001b[0;32m--> 192\u001b[0;31m       \u001b[0moutput_tensor\u001b[0m \u001b[0;34m=\u001b[0m \u001b[0mlayer\u001b[0m\u001b[0;34m(\u001b[0m\u001b[0mself\u001b[0m\u001b[0;34m.\u001b[0m\u001b[0moutputs\u001b[0m\u001b[0;34m[\u001b[0m\u001b[0;36m0\u001b[0m\u001b[0;34m]\u001b[0m\u001b[0;34m)\u001b[0m\u001b[0;34m\u001b[0m\u001b[0;34m\u001b[0m\u001b[0m\n\u001b[0m\u001b[1;32m    193\u001b[0m       \u001b[0;32mif\u001b[0m \u001b[0mlen\u001b[0m\u001b[0;34m(\u001b[0m\u001b[0mnest\u001b[0m\u001b[0;34m.\u001b[0m\u001b[0mflatten\u001b[0m\u001b[0;34m(\u001b[0m\u001b[0moutput_tensor\u001b[0m\u001b[0;34m)\u001b[0m\u001b[0;34m)\u001b[0m \u001b[0;34m!=\u001b[0m \u001b[0;36m1\u001b[0m\u001b[0;34m:\u001b[0m\u001b[0;34m\u001b[0m\u001b[0;34m\u001b[0m\u001b[0m\n\u001b[1;32m    194\u001b[0m         raise TypeError('All layers in a Sequential model '\n",
      "\u001b[0;32m~/anaconda3/envs/pytorchkfj/lib/python3.7/site-packages/tensorflow/python/keras/engine/base_layer.py\u001b[0m in \u001b[0;36m__call__\u001b[0;34m(self, inputs, *args, **kwargs)\u001b[0m\n\u001b[1;32m    627\u001b[0m                     not base_layer_utils.is_in_eager_or_tf_function()):\n\u001b[1;32m    628\u001b[0m                   \u001b[0;32mwith\u001b[0m \u001b[0mauto_control_deps\u001b[0m\u001b[0;34m.\u001b[0m\u001b[0mAutomaticControlDependencies\u001b[0m\u001b[0;34m(\u001b[0m\u001b[0;34m)\u001b[0m \u001b[0;32mas\u001b[0m \u001b[0macd\u001b[0m\u001b[0;34m:\u001b[0m\u001b[0;34m\u001b[0m\u001b[0;34m\u001b[0m\u001b[0m\n\u001b[0;32m--> 629\u001b[0;31m                     \u001b[0moutputs\u001b[0m \u001b[0;34m=\u001b[0m \u001b[0mcall_fn\u001b[0m\u001b[0;34m(\u001b[0m\u001b[0minputs\u001b[0m\u001b[0;34m,\u001b[0m \u001b[0;34m*\u001b[0m\u001b[0margs\u001b[0m\u001b[0;34m,\u001b[0m \u001b[0;34m**\u001b[0m\u001b[0mkwargs\u001b[0m\u001b[0;34m)\u001b[0m\u001b[0;34m\u001b[0m\u001b[0;34m\u001b[0m\u001b[0m\n\u001b[0m\u001b[1;32m    630\u001b[0m                     \u001b[0;31m# Wrap Tensors in `outputs` in `tf.identity` to avoid\u001b[0m\u001b[0;34m\u001b[0m\u001b[0;34m\u001b[0m\u001b[0;34m\u001b[0m\u001b[0m\n\u001b[1;32m    631\u001b[0m                     \u001b[0;31m# circular dependencies.\u001b[0m\u001b[0;34m\u001b[0m\u001b[0;34m\u001b[0m\u001b[0;34m\u001b[0m\u001b[0m\n",
      "\u001b[0;32m~/anaconda3/envs/pytorchkfj/lib/python3.7/site-packages/tensorflow/python/autograph/impl/api.py\u001b[0m in \u001b[0;36mwrapper\u001b[0;34m(*args, **kwargs)\u001b[0m\n\u001b[1;32m    147\u001b[0m       \u001b[0;32mexcept\u001b[0m \u001b[0mException\u001b[0m \u001b[0;32mas\u001b[0m \u001b[0me\u001b[0m\u001b[0;34m:\u001b[0m  \u001b[0;31m# pylint:disable=broad-except\u001b[0m\u001b[0;34m\u001b[0m\u001b[0;34m\u001b[0m\u001b[0m\n\u001b[1;32m    148\u001b[0m         \u001b[0;32mif\u001b[0m \u001b[0mhasattr\u001b[0m\u001b[0;34m(\u001b[0m\u001b[0me\u001b[0m\u001b[0;34m,\u001b[0m \u001b[0;34m'ag_error_metadata'\u001b[0m\u001b[0;34m)\u001b[0m\u001b[0;34m:\u001b[0m\u001b[0;34m\u001b[0m\u001b[0;34m\u001b[0m\u001b[0m\n\u001b[0;32m--> 149\u001b[0;31m           \u001b[0;32mraise\u001b[0m \u001b[0me\u001b[0m\u001b[0;34m.\u001b[0m\u001b[0mag_error_metadata\u001b[0m\u001b[0;34m.\u001b[0m\u001b[0mto_exception\u001b[0m\u001b[0;34m(\u001b[0m\u001b[0mtype\u001b[0m\u001b[0;34m(\u001b[0m\u001b[0me\u001b[0m\u001b[0;34m)\u001b[0m\u001b[0;34m)\u001b[0m\u001b[0;34m\u001b[0m\u001b[0;34m\u001b[0m\u001b[0m\n\u001b[0m\u001b[1;32m    150\u001b[0m         \u001b[0;32melse\u001b[0m\u001b[0;34m:\u001b[0m\u001b[0;34m\u001b[0m\u001b[0;34m\u001b[0m\u001b[0m\n\u001b[1;32m    151\u001b[0m           \u001b[0;32mraise\u001b[0m\u001b[0;34m\u001b[0m\u001b[0;34m\u001b[0m\u001b[0m\n",
      "\u001b[0;31mAssertionError\u001b[0m: in converted code:\n\n    <ipython-input-45-50bdc692682a>:37 call\n        result = tf.vectorized_map(lambda vec: f(vec, self.variable, self.bias), inputs)\n    /home/xiaochen/anaconda3/envs/pytorchkfj/lib/python3.7/site-packages/tensorflow/python/ops/parallel_for/control_flow_ops.py:338 vectorized_map\n        return pfor(loop_fn, batch_size)\n    /home/xiaochen/anaconda3/envs/pytorchkfj/lib/python3.7/site-packages/tensorflow/python/ops/parallel_for/control_flow_ops.py:164 pfor\n        return f()\n    /home/xiaochen/anaconda3/envs/pytorchkfj/lib/python3.7/site-packages/tensorflow/python/ops/parallel_for/control_flow_ops.py:161 f\n        return _pfor_impl(loop_fn, iters, parallel_iterations=parallel_iterations)\n    /home/xiaochen/anaconda3/envs/pytorchkfj/lib/python3.7/site-packages/tensorflow/python/ops/parallel_for/control_flow_ops.py:214 _pfor_impl\n        outputs.append(converter.convert(loop_fn_output))\n    /home/xiaochen/anaconda3/envs/pytorchkfj/lib/python3.7/site-packages/tensorflow/python/ops/parallel_for/pfor.py:1175 convert\n        output = self._convert_helper(y)\n    /home/xiaochen/anaconda3/envs/pytorchkfj/lib/python3.7/site-packages/tensorflow/python/ops/parallel_for/pfor.py:1208 _convert_helper\n        assert isinstance(y, ops.Tensor), y\n\n    AssertionError: __unnamed_node__\n"
     ]
    }
   ],
   "source": [
    "import tensorflow as tf\n",
    "from tensorflow.keras.layers import Conv2D, MaxPooling2D, Dense, Input\n",
    "\n",
    "tn_model = tf.keras.Sequential()\n",
    "tn_model.add(Input(shape=(28, 28, 1)))\n",
    "tn_model.add(TNConvLayer(fov=3, inputShape=(28, 28),name='conv1'))\n",
    "tn_model.add(Conv2D(32, kernel_size=(3,3), activation='relu', name='conv2'))\n",
    "tn_model.add(Conv2D(16, kernel_size=(3,3), activation='relu', name='conv3'))\n",
    "tn_model.add(MaxPooling2D(pool_size=(2,2)))\n",
    "tn_model.add(tf.keras.layers.Flatten())\n",
    "tn_model.add(TNLayer(44))\n",
    "tn_model.add(Dense(10, activation='softmax', name='fc2'))\n",
    "tn_model.summary()"
   ]
  },
  {
   "cell_type": "code",
   "execution_count": 9,
   "metadata": {
    "colab": {
     "base_uri": "https://localhost:8080/",
     "height": 255
    },
    "colab_type": "code",
    "id": "bbKsmK8wIFTp",
    "outputId": "a4f49baa-1087-4d2d-b00e-2c8349c51086"
   },
   "outputs": [
    {
     "ename": "ModuleNotFoundError",
     "evalue": "No module named 'tf'",
     "output_type": "error",
     "traceback": [
      "\u001b[0;31m---------------------------------------------------------------------------\u001b[0m",
      "\u001b[0;31mModuleNotFoundError\u001b[0m                       Traceback (most recent call last)",
      "\u001b[0;32m<ipython-input-9-b8bee65d7eaa>\u001b[0m in \u001b[0;36m<module>\u001b[0;34m\u001b[0m\n\u001b[0;32m----> 1\u001b[0;31m \u001b[0;32mfrom\u001b[0m \u001b[0mtf\u001b[0m\u001b[0;34m.\u001b[0m\u001b[0mkeras\u001b[0m\u001b[0;34m.\u001b[0m\u001b[0mlayers\u001b[0m \u001b[0;32mimport\u001b[0m \u001b[0mConv2D\u001b[0m\u001b[0;34m,\u001b[0m \u001b[0mMaxPooling2D\u001b[0m\u001b[0;34m\u001b[0m\u001b[0;34m\u001b[0m\u001b[0m\n\u001b[0m\u001b[1;32m      2\u001b[0m \u001b[0;34m\u001b[0m\u001b[0m\n\u001b[1;32m      3\u001b[0m \u001b[0mtn_model\u001b[0m \u001b[0;34m=\u001b[0m \u001b[0mtf\u001b[0m\u001b[0;34m.\u001b[0m\u001b[0mkeras\u001b[0m\u001b[0;34m.\u001b[0m\u001b[0mSequential\u001b[0m\u001b[0;34m(\u001b[0m\u001b[0;34m)\u001b[0m\u001b[0;34m\u001b[0m\u001b[0;34m\u001b[0m\u001b[0m\n\u001b[1;32m      4\u001b[0m \u001b[0mtn_model\u001b[0m\u001b[0;34m.\u001b[0m\u001b[0madd\u001b[0m\u001b[0;34m(\u001b[0m\u001b[0mConv2D\u001b[0m\u001b[0;34m(\u001b[0m\u001b[0;36m16\u001b[0m\u001b[0;34m,\u001b[0m \u001b[0mkernel_size\u001b[0m\u001b[0;34m=\u001b[0m\u001b[0;34m(\u001b[0m\u001b[0;36m3\u001b[0m\u001b[0;34m,\u001b[0m\u001b[0;36m3\u001b[0m\u001b[0;34m)\u001b[0m\u001b[0;34m,\u001b[0m \u001b[0mactivation\u001b[0m\u001b[0;34m=\u001b[0m\u001b[0;34m'relu'\u001b[0m\u001b[0;34m,\u001b[0m \u001b[0mname\u001b[0m\u001b[0;34m=\u001b[0m\u001b[0;34m'conv1'\u001b[0m\u001b[0;34m,\u001b[0m \u001b[0minput_shape\u001b[0m\u001b[0;34m=\u001b[0m\u001b[0;34m(\u001b[0m\u001b[0;36m28\u001b[0m\u001b[0;34m,\u001b[0m\u001b[0;36m28\u001b[0m\u001b[0;34m,\u001b[0m\u001b[0;36m1\u001b[0m\u001b[0;34m)\u001b[0m\u001b[0;34m)\u001b[0m\u001b[0;34m)\u001b[0m\u001b[0;34m\u001b[0m\u001b[0;34m\u001b[0m\u001b[0m\n\u001b[1;32m      5\u001b[0m \u001b[0mtn_model\u001b[0m\u001b[0;34m.\u001b[0m\u001b[0madd\u001b[0m\u001b[0;34m(\u001b[0m\u001b[0mConv2D\u001b[0m\u001b[0;34m(\u001b[0m\u001b[0;36m32\u001b[0m\u001b[0;34m,\u001b[0m \u001b[0mkernel_size\u001b[0m\u001b[0;34m=\u001b[0m\u001b[0;34m(\u001b[0m\u001b[0;36m3\u001b[0m\u001b[0;34m,\u001b[0m\u001b[0;36m3\u001b[0m\u001b[0;34m)\u001b[0m\u001b[0;34m,\u001b[0m \u001b[0mactivation\u001b[0m\u001b[0;34m=\u001b[0m\u001b[0;34m'relu'\u001b[0m\u001b[0;34m,\u001b[0m \u001b[0mname\u001b[0m\u001b[0;34m=\u001b[0m\u001b[0;34m'conv2'\u001b[0m\u001b[0;34m)\u001b[0m\u001b[0;34m)\u001b[0m\u001b[0;34m\u001b[0m\u001b[0;34m\u001b[0m\u001b[0m\n",
      "\u001b[0;31mModuleNotFoundError\u001b[0m: No module named 'tf'"
     ]
    }
   ],
   "source": [
    "from tf.keras.layers import Conv2D, MaxPooling2D\n",
    "\n",
    "tn_model = tf.keras.Sequential()\n",
    "tn_model.add(Conv2D(16, kernel_size=(3,3), activation='relu', name='conv1', input_shape=(28,28,1)))\n",
    "tn_model.add(Conv2D(32, kernel_size=(3,3), activation='relu', name='conv2'))\n",
    "tn_model.add(Conv2D(16, kernel_size=(3,3), activation='relu', name='conv3'))\n",
    "tn_model.add(MaxPooling2D(pool_size=(2,2)))\n",
    "tn_model.add(tf.keras.layers.Flatten())\n",
    "tn_model.add(TNLayer(44))\n",
    "tn_model.add(Dense(10, activation='softmax', name='fc2'))\n",
    "tn_model.summary()"
   ]
  },
  {
   "cell_type": "code",
   "execution_count": null,
   "metadata": {},
   "outputs": [],
   "source": [
    "tn_model2 = tf.keras.Sequential()\n",
    "tn_model2.add(Conv2D(16, kernel_size=(3,3), activation='relu', name='conv1', input_shape=(28,28,1)))\n",
    "tn_model2.add(Conv2D(32, kernel_size=(3,3), activation='relu', name='conv2'))\n",
    "tn_model2.add(Conv2D(16, kernel_size=(3,3), activation='relu', name='conv3'))\n",
    "tn_model2.add(MaxPooling2D(pool_size=(2,2)))\n",
    "tn_model2.add(tf.keras.layers.Flatten())\n",
    "tn_model2.add(TriNodeTNLayer(44, 3))\n",
    "tn_model2.add(Dense(10, activation='softmax', name='fc2'))\n",
    "tn_model2.summary()"
   ]
  },
  {
   "cell_type": "code",
   "execution_count": 68,
   "metadata": {},
   "outputs": [
    {
     "name": "stdout",
     "output_type": "stream",
     "text": [
      "WARNING:tensorflow:Entity <bound method MultiNodeTNLayer.call of <__main__.MultiNodeTNLayer object at 0x7efb50623610>> could not be transformed and will be executed as-is. Please report this to the AutgoGraph team. When filing the bug, set the verbosity to 10 (on Linux, `export AUTOGRAPH_VERBOSITY=10`) and attach the full output. Cause: converting <bound method MultiNodeTNLayer.call of <__main__.MultiNodeTNLayer object at 0x7efb50623610>>: ValueError: Failed to parse source code of <bound method MultiNodeTNLayer.call of <__main__.MultiNodeTNLayer object at 0x7efb50623610>>, which Python reported as:\n",
      "    def call(self, inputs):\n",
      "        # Define the contraction.\n",
      "        # We break it out so we can parallelize a batch using tf.vectorized_map.\n",
      "        def f(input_vec, var_list, bias_var):\n",
      "            # Reshape to a matrix instead of a vector.\n",
      "            input_vec = tf.reshape(input_vec, self.dim)\n",
      "\n",
      "            # Now we create the network.\n",
      "            nodes_list = [tn.Node(var_list[i]) for i in range(len(var_list))]\n",
      "            x_node = tn.Node(input_vec)\n",
      "            #assert False\n",
      "            var_list[0][1] ^ x_node[0]\n",
      "\n",
      "            for i in range(len(self.dim)):\n",
      "                var_list[i][1] ^ x_node[i]\n",
      "\n",
      "            assert False\n",
      "            var_list[0][2] ^ var_list[1][2]\n",
      "            for i in range(1, len(var_list)-1):\n",
      "                var_list[i][3] ^ var_list[i+1][2]\n",
      "\n",
      "#             a[1] ^ x_node[0]\n",
      "#             b[1] ^ x_node[1]\n",
      "#             c[1] ^ x_node[2]\n",
      "#             a[2] ^ b[2]\n",
      "#             b[3] ^ c[2]\n",
      "\n",
      "\n",
      "            # The TN should now look like this\n",
      "            #     |     |     |\n",
      "            #    a --- ... --- c\n",
      "            #    \\ ...  | ...  /\n",
      "            #           x\n",
      "\n",
      "            # Now we begin the contraction.\n",
      "            # c1 = a @ x_node # avoid trace edge?\n",
      "            # c2 = c1 @ b\n",
      "\n",
      "            result = var_list[0] @ x_node\n",
      "            for i in range(1, len(var_list)):\n",
      "                result @= var_list[i]\n",
      "            #c2 = c1 @ b\n",
      "            #c3 = c2 @ c\n",
      "            result = result.tensor\n",
      "            #nodes = tn.reachable(x_node)\n",
      "            #result = tn.contractors.greedy(nodes)\n",
      "            #print(result)\n",
      "\n",
      "            #result = (c @ b).tensor\n",
      "\n",
      "            # Finally, add bias.\n",
      "            return result + bias_var\n",
      "\n",
      "        # To deal with a batch of items, we can use the tf.vectorized_map function.\n",
      "        # https://www.tensorflow.org/api_docs/python/tf/vectorized_map\n",
      "        result = tf.vectorized_map(lambda vec: f(vec, self.var_list, self.bias), inputs)\n",
      "        return tf.nn.relu(tf.reshape(result, (-1, self.dim**2)))\n",
      "\n",
      "This may be caused by multiline strings or comments not indented at the same level as the code.\n",
      "WARNING: Entity <bound method MultiNodeTNLayer.call of <__main__.MultiNodeTNLayer object at 0x7efb50623610>> could not be transformed and will be executed as-is. Please report this to the AutgoGraph team. When filing the bug, set the verbosity to 10 (on Linux, `export AUTOGRAPH_VERBOSITY=10`) and attach the full output. Cause: converting <bound method MultiNodeTNLayer.call of <__main__.MultiNodeTNLayer object at 0x7efb50623610>>: ValueError: Failed to parse source code of <bound method MultiNodeTNLayer.call of <__main__.MultiNodeTNLayer object at 0x7efb50623610>>, which Python reported as:\n",
      "    def call(self, inputs):\n",
      "        # Define the contraction.\n",
      "        # We break it out so we can parallelize a batch using tf.vectorized_map.\n",
      "        def f(input_vec, var_list, bias_var):\n",
      "            # Reshape to a matrix instead of a vector.\n",
      "            input_vec = tf.reshape(input_vec, self.dim)\n",
      "\n",
      "            # Now we create the network.\n",
      "            nodes_list = [tn.Node(var_list[i]) for i in range(len(var_list))]\n",
      "            x_node = tn.Node(input_vec)\n",
      "            #assert False\n",
      "            var_list[0][1] ^ x_node[0]\n",
      "\n",
      "            for i in range(len(self.dim)):\n",
      "                var_list[i][1] ^ x_node[i]\n",
      "\n",
      "            assert False\n",
      "            var_list[0][2] ^ var_list[1][2]\n",
      "            for i in range(1, len(var_list)-1):\n",
      "                var_list[i][3] ^ var_list[i+1][2]\n",
      "\n",
      "#             a[1] ^ x_node[0]\n",
      "#             b[1] ^ x_node[1]\n",
      "#             c[1] ^ x_node[2]\n",
      "#             a[2] ^ b[2]\n",
      "#             b[3] ^ c[2]\n",
      "\n",
      "\n",
      "            # The TN should now look like this\n",
      "            #     |     |     |\n",
      "            #    a --- ... --- c\n",
      "            #    \\ ...  | ...  /\n",
      "            #           x\n",
      "\n",
      "            # Now we begin the contraction.\n",
      "            # c1 = a @ x_node # avoid trace edge?\n",
      "            # c2 = c1 @ b\n",
      "\n",
      "            result = var_list[0] @ x_node\n",
      "            for i in range(1, len(var_list)):\n",
      "                result @= var_list[i]\n",
      "            #c2 = c1 @ b\n",
      "            #c3 = c2 @ c\n",
      "            result = result.tensor\n",
      "            #nodes = tn.reachable(x_node)\n",
      "            #result = tn.contractors.greedy(nodes)\n",
      "            #print(result)\n",
      "\n",
      "            #result = (c @ b).tensor\n",
      "\n",
      "            # Finally, add bias.\n",
      "            return result + bias_var\n",
      "\n",
      "        # To deal with a batch of items, we can use the tf.vectorized_map function.\n",
      "        # https://www.tensorflow.org/api_docs/python/tf/vectorized_map\n",
      "        result = tf.vectorized_map(lambda vec: f(vec, self.var_list, self.bias), inputs)\n",
      "        return tf.nn.relu(tf.reshape(result, (-1, self.dim**2)))\n",
      "\n",
      "This may be caused by multiline strings or comments not indented at the same level as the code.\n"
     ]
    },
    {
     "ename": "TypeError",
     "evalue": "in converted code:\n\n    <ipython-input-67-7ed9bfbf5470>:76 call\n        result = tf.vectorized_map(lambda vec: f(vec, self.var_list, self.bias), inputs)\n    /home/xiaochen/anaconda3/envs/pytorchkfj/lib/python3.7/site-packages/tensorflow/python/ops/parallel_for/control_flow_ops.py:338 vectorized_map\n        return pfor(loop_fn, batch_size)\n    /home/xiaochen/anaconda3/envs/pytorchkfj/lib/python3.7/site-packages/tensorflow/python/ops/parallel_for/control_flow_ops.py:164 pfor\n        return f()\n    /home/xiaochen/anaconda3/envs/pytorchkfj/lib/python3.7/site-packages/tensorflow/python/ops/parallel_for/control_flow_ops.py:161 f\n        return _pfor_impl(loop_fn, iters, parallel_iterations=parallel_iterations)\n    /home/xiaochen/anaconda3/envs/pytorchkfj/lib/python3.7/site-packages/tensorflow/python/ops/parallel_for/control_flow_ops.py:198 _pfor_impl\n        loop_fn_outputs = loop_fn(loop_var)\n    /home/xiaochen/anaconda3/envs/pytorchkfj/lib/python3.7/site-packages/tensorflow/python/ops/parallel_for/control_flow_ops.py:336 loop_fn\n        return fn(gathered_elems)\n    <ipython-input-67-7ed9bfbf5470>:76 <lambda>\n        result = tf.vectorized_map(lambda vec: f(vec, self.var_list, self.bias), inputs)\n    <ipython-input-67-7ed9bfbf5470>:32 f\n        var_list[0][1] ^ x_node[0]\n    /home/xiaochen/anaconda3/envs/pytorchkfj/lib/python3.7/site-packages/tensorflow/python/ops/math_ops.py:888 binary_op_wrapper\n        y, dtype_hint=x.dtype.base_dtype, name=\"y\")\n    /home/xiaochen/anaconda3/envs/pytorchkfj/lib/python3.7/site-packages/tensorflow/python/framework/ops.py:1145 convert_to_tensor_v2\n        as_ref=False)\n    /home/xiaochen/anaconda3/envs/pytorchkfj/lib/python3.7/site-packages/tensorflow/python/framework/ops.py:1224 internal_convert_to_tensor\n        ret = conversion_func(value, dtype=dtype, name=name, as_ref=as_ref)\n    /home/xiaochen/anaconda3/envs/pytorchkfj/lib/python3.7/site-packages/tensorflow/python/framework/constant_op.py:305 _constant_tensor_conversion_function\n        return constant(v, dtype=dtype, name=name)\n    /home/xiaochen/anaconda3/envs/pytorchkfj/lib/python3.7/site-packages/tensorflow/python/framework/constant_op.py:246 constant\n        allow_broadcast=True)\n    /home/xiaochen/anaconda3/envs/pytorchkfj/lib/python3.7/site-packages/tensorflow/python/framework/constant_op.py:284 _constant_impl\n        allow_broadcast=allow_broadcast))\n    /home/xiaochen/anaconda3/envs/pytorchkfj/lib/python3.7/site-packages/tensorflow/python/framework/tensor_util.py:562 make_tensor_proto\n        \"supported type.\" % (type(values), values))\n\n    TypeError: Failed to convert object of type <class 'tensornetwork.network_components.Edge'> to Tensor. Contents: __unnamed_edge__. Consider casting elements to a supported type.\n",
     "output_type": "error",
     "traceback": [
      "\u001b[0;31m---------------------------------------------------------------------------\u001b[0m",
      "\u001b[0;31mTypeError\u001b[0m                                 Traceback (most recent call last)",
      "\u001b[0;32m<ipython-input-68-d9136e00d5d9>\u001b[0m in \u001b[0;36m<module>\u001b[0;34m\u001b[0m\n\u001b[1;32m      5\u001b[0m \u001b[0mtn_model3\u001b[0m\u001b[0;34m.\u001b[0m\u001b[0madd\u001b[0m\u001b[0;34m(\u001b[0m\u001b[0mMaxPooling2D\u001b[0m\u001b[0;34m(\u001b[0m\u001b[0mpool_size\u001b[0m\u001b[0;34m=\u001b[0m\u001b[0;34m(\u001b[0m\u001b[0;36m2\u001b[0m\u001b[0;34m,\u001b[0m\u001b[0;36m2\u001b[0m\u001b[0;34m)\u001b[0m\u001b[0;34m)\u001b[0m\u001b[0;34m)\u001b[0m\u001b[0;34m\u001b[0m\u001b[0;34m\u001b[0m\u001b[0m\n\u001b[1;32m      6\u001b[0m \u001b[0mtn_model3\u001b[0m\u001b[0;34m.\u001b[0m\u001b[0madd\u001b[0m\u001b[0;34m(\u001b[0m\u001b[0mtf\u001b[0m\u001b[0;34m.\u001b[0m\u001b[0mkeras\u001b[0m\u001b[0;34m.\u001b[0m\u001b[0mlayers\u001b[0m\u001b[0;34m.\u001b[0m\u001b[0mFlatten\u001b[0m\u001b[0;34m(\u001b[0m\u001b[0;34m)\u001b[0m\u001b[0;34m)\u001b[0m\u001b[0;34m\u001b[0m\u001b[0;34m\u001b[0m\u001b[0m\n\u001b[0;32m----> 7\u001b[0;31m \u001b[0mtn_model3\u001b[0m\u001b[0;34m.\u001b[0m\u001b[0madd\u001b[0m\u001b[0;34m(\u001b[0m\u001b[0mMultiNodeTNLayer\u001b[0m\u001b[0;34m(\u001b[0m\u001b[0;34m(\u001b[0m\u001b[0;36m11\u001b[0m\u001b[0;34m,\u001b[0m \u001b[0;36m11\u001b[0m\u001b[0;34m,\u001b[0m \u001b[0;36m4\u001b[0m\u001b[0;34m,\u001b[0m \u001b[0;36m4\u001b[0m\u001b[0;34m)\u001b[0m\u001b[0;34m)\u001b[0m\u001b[0;34m)\u001b[0m\u001b[0;34m\u001b[0m\u001b[0;34m\u001b[0m\u001b[0m\n\u001b[0m\u001b[1;32m      8\u001b[0m \u001b[0mtn_model3\u001b[0m\u001b[0;34m.\u001b[0m\u001b[0madd\u001b[0m\u001b[0;34m(\u001b[0m\u001b[0mDense\u001b[0m\u001b[0;34m(\u001b[0m\u001b[0;36m10\u001b[0m\u001b[0;34m,\u001b[0m \u001b[0mactivation\u001b[0m\u001b[0;34m=\u001b[0m\u001b[0;34m'softmax'\u001b[0m\u001b[0;34m,\u001b[0m \u001b[0mname\u001b[0m\u001b[0;34m=\u001b[0m\u001b[0;34m'fc2'\u001b[0m\u001b[0;34m)\u001b[0m\u001b[0;34m)\u001b[0m\u001b[0;34m\u001b[0m\u001b[0;34m\u001b[0m\u001b[0m\n\u001b[1;32m      9\u001b[0m \u001b[0mtn_model3\u001b[0m\u001b[0;34m.\u001b[0m\u001b[0msummary\u001b[0m\u001b[0;34m(\u001b[0m\u001b[0;34m)\u001b[0m\u001b[0;34m\u001b[0m\u001b[0;34m\u001b[0m\u001b[0m\n",
      "\u001b[0;32m~/anaconda3/envs/pytorchkfj/lib/python3.7/site-packages/tensorflow/python/training/tracking/base.py\u001b[0m in \u001b[0;36m_method_wrapper\u001b[0;34m(self, *args, **kwargs)\u001b[0m\n\u001b[1;32m    455\u001b[0m     \u001b[0mself\u001b[0m\u001b[0;34m.\u001b[0m\u001b[0m_self_setattr_tracking\u001b[0m \u001b[0;34m=\u001b[0m \u001b[0;32mFalse\u001b[0m  \u001b[0;31m# pylint: disable=protected-access\u001b[0m\u001b[0;34m\u001b[0m\u001b[0;34m\u001b[0m\u001b[0m\n\u001b[1;32m    456\u001b[0m     \u001b[0;32mtry\u001b[0m\u001b[0;34m:\u001b[0m\u001b[0;34m\u001b[0m\u001b[0;34m\u001b[0m\u001b[0m\n\u001b[0;32m--> 457\u001b[0;31m       \u001b[0mresult\u001b[0m \u001b[0;34m=\u001b[0m \u001b[0mmethod\u001b[0m\u001b[0;34m(\u001b[0m\u001b[0mself\u001b[0m\u001b[0;34m,\u001b[0m \u001b[0;34m*\u001b[0m\u001b[0margs\u001b[0m\u001b[0;34m,\u001b[0m \u001b[0;34m**\u001b[0m\u001b[0mkwargs\u001b[0m\u001b[0;34m)\u001b[0m\u001b[0;34m\u001b[0m\u001b[0;34m\u001b[0m\u001b[0m\n\u001b[0m\u001b[1;32m    458\u001b[0m     \u001b[0;32mfinally\u001b[0m\u001b[0;34m:\u001b[0m\u001b[0;34m\u001b[0m\u001b[0;34m\u001b[0m\u001b[0m\n\u001b[1;32m    459\u001b[0m       \u001b[0mself\u001b[0m\u001b[0;34m.\u001b[0m\u001b[0m_self_setattr_tracking\u001b[0m \u001b[0;34m=\u001b[0m \u001b[0mprevious_value\u001b[0m  \u001b[0;31m# pylint: disable=protected-access\u001b[0m\u001b[0;34m\u001b[0m\u001b[0;34m\u001b[0m\u001b[0m\n",
      "\u001b[0;32m~/anaconda3/envs/pytorchkfj/lib/python3.7/site-packages/tensorflow/python/keras/engine/sequential.py\u001b[0m in \u001b[0;36madd\u001b[0;34m(self, layer)\u001b[0m\n\u001b[1;32m    190\u001b[0m       \u001b[0;31m# If the model is being built continuously on top of an input layer:\u001b[0m\u001b[0;34m\u001b[0m\u001b[0;34m\u001b[0m\u001b[0;34m\u001b[0m\u001b[0m\n\u001b[1;32m    191\u001b[0m       \u001b[0;31m# refresh its output.\u001b[0m\u001b[0;34m\u001b[0m\u001b[0;34m\u001b[0m\u001b[0;34m\u001b[0m\u001b[0m\n\u001b[0;32m--> 192\u001b[0;31m       \u001b[0moutput_tensor\u001b[0m \u001b[0;34m=\u001b[0m \u001b[0mlayer\u001b[0m\u001b[0;34m(\u001b[0m\u001b[0mself\u001b[0m\u001b[0;34m.\u001b[0m\u001b[0moutputs\u001b[0m\u001b[0;34m[\u001b[0m\u001b[0;36m0\u001b[0m\u001b[0;34m]\u001b[0m\u001b[0;34m)\u001b[0m\u001b[0;34m\u001b[0m\u001b[0;34m\u001b[0m\u001b[0m\n\u001b[0m\u001b[1;32m    193\u001b[0m       \u001b[0;32mif\u001b[0m \u001b[0mlen\u001b[0m\u001b[0;34m(\u001b[0m\u001b[0mnest\u001b[0m\u001b[0;34m.\u001b[0m\u001b[0mflatten\u001b[0m\u001b[0;34m(\u001b[0m\u001b[0moutput_tensor\u001b[0m\u001b[0;34m)\u001b[0m\u001b[0;34m)\u001b[0m \u001b[0;34m!=\u001b[0m \u001b[0;36m1\u001b[0m\u001b[0;34m:\u001b[0m\u001b[0;34m\u001b[0m\u001b[0;34m\u001b[0m\u001b[0m\n\u001b[1;32m    194\u001b[0m         raise TypeError('All layers in a Sequential model '\n",
      "\u001b[0;32m~/anaconda3/envs/pytorchkfj/lib/python3.7/site-packages/tensorflow/python/keras/engine/base_layer.py\u001b[0m in \u001b[0;36m__call__\u001b[0;34m(self, inputs, *args, **kwargs)\u001b[0m\n\u001b[1;32m    627\u001b[0m                     not base_layer_utils.is_in_eager_or_tf_function()):\n\u001b[1;32m    628\u001b[0m                   \u001b[0;32mwith\u001b[0m \u001b[0mauto_control_deps\u001b[0m\u001b[0;34m.\u001b[0m\u001b[0mAutomaticControlDependencies\u001b[0m\u001b[0;34m(\u001b[0m\u001b[0;34m)\u001b[0m \u001b[0;32mas\u001b[0m \u001b[0macd\u001b[0m\u001b[0;34m:\u001b[0m\u001b[0;34m\u001b[0m\u001b[0;34m\u001b[0m\u001b[0m\n\u001b[0;32m--> 629\u001b[0;31m                     \u001b[0moutputs\u001b[0m \u001b[0;34m=\u001b[0m \u001b[0mcall_fn\u001b[0m\u001b[0;34m(\u001b[0m\u001b[0minputs\u001b[0m\u001b[0;34m,\u001b[0m \u001b[0;34m*\u001b[0m\u001b[0margs\u001b[0m\u001b[0;34m,\u001b[0m \u001b[0;34m**\u001b[0m\u001b[0mkwargs\u001b[0m\u001b[0;34m)\u001b[0m\u001b[0;34m\u001b[0m\u001b[0;34m\u001b[0m\u001b[0m\n\u001b[0m\u001b[1;32m    630\u001b[0m                     \u001b[0;31m# Wrap Tensors in `outputs` in `tf.identity` to avoid\u001b[0m\u001b[0;34m\u001b[0m\u001b[0;34m\u001b[0m\u001b[0;34m\u001b[0m\u001b[0m\n\u001b[1;32m    631\u001b[0m                     \u001b[0;31m# circular dependencies.\u001b[0m\u001b[0;34m\u001b[0m\u001b[0;34m\u001b[0m\u001b[0;34m\u001b[0m\u001b[0m\n",
      "\u001b[0;32m~/anaconda3/envs/pytorchkfj/lib/python3.7/site-packages/tensorflow/python/autograph/impl/api.py\u001b[0m in \u001b[0;36mwrapper\u001b[0;34m(*args, **kwargs)\u001b[0m\n\u001b[1;32m    147\u001b[0m       \u001b[0;32mexcept\u001b[0m \u001b[0mException\u001b[0m \u001b[0;32mas\u001b[0m \u001b[0me\u001b[0m\u001b[0;34m:\u001b[0m  \u001b[0;31m# pylint:disable=broad-except\u001b[0m\u001b[0;34m\u001b[0m\u001b[0;34m\u001b[0m\u001b[0m\n\u001b[1;32m    148\u001b[0m         \u001b[0;32mif\u001b[0m \u001b[0mhasattr\u001b[0m\u001b[0;34m(\u001b[0m\u001b[0me\u001b[0m\u001b[0;34m,\u001b[0m \u001b[0;34m'ag_error_metadata'\u001b[0m\u001b[0;34m)\u001b[0m\u001b[0;34m:\u001b[0m\u001b[0;34m\u001b[0m\u001b[0;34m\u001b[0m\u001b[0m\n\u001b[0;32m--> 149\u001b[0;31m           \u001b[0;32mraise\u001b[0m \u001b[0me\u001b[0m\u001b[0;34m.\u001b[0m\u001b[0mag_error_metadata\u001b[0m\u001b[0;34m.\u001b[0m\u001b[0mto_exception\u001b[0m\u001b[0;34m(\u001b[0m\u001b[0mtype\u001b[0m\u001b[0;34m(\u001b[0m\u001b[0me\u001b[0m\u001b[0;34m)\u001b[0m\u001b[0;34m)\u001b[0m\u001b[0;34m\u001b[0m\u001b[0;34m\u001b[0m\u001b[0m\n\u001b[0m\u001b[1;32m    150\u001b[0m         \u001b[0;32melse\u001b[0m\u001b[0;34m:\u001b[0m\u001b[0;34m\u001b[0m\u001b[0;34m\u001b[0m\u001b[0m\n\u001b[1;32m    151\u001b[0m           \u001b[0;32mraise\u001b[0m\u001b[0;34m\u001b[0m\u001b[0;34m\u001b[0m\u001b[0m\n",
      "\u001b[0;31mTypeError\u001b[0m: in converted code:\n\n    <ipython-input-67-7ed9bfbf5470>:76 call\n        result = tf.vectorized_map(lambda vec: f(vec, self.var_list, self.bias), inputs)\n    /home/xiaochen/anaconda3/envs/pytorchkfj/lib/python3.7/site-packages/tensorflow/python/ops/parallel_for/control_flow_ops.py:338 vectorized_map\n        return pfor(loop_fn, batch_size)\n    /home/xiaochen/anaconda3/envs/pytorchkfj/lib/python3.7/site-packages/tensorflow/python/ops/parallel_for/control_flow_ops.py:164 pfor\n        return f()\n    /home/xiaochen/anaconda3/envs/pytorchkfj/lib/python3.7/site-packages/tensorflow/python/ops/parallel_for/control_flow_ops.py:161 f\n        return _pfor_impl(loop_fn, iters, parallel_iterations=parallel_iterations)\n    /home/xiaochen/anaconda3/envs/pytorchkfj/lib/python3.7/site-packages/tensorflow/python/ops/parallel_for/control_flow_ops.py:198 _pfor_impl\n        loop_fn_outputs = loop_fn(loop_var)\n    /home/xiaochen/anaconda3/envs/pytorchkfj/lib/python3.7/site-packages/tensorflow/python/ops/parallel_for/control_flow_ops.py:336 loop_fn\n        return fn(gathered_elems)\n    <ipython-input-67-7ed9bfbf5470>:76 <lambda>\n        result = tf.vectorized_map(lambda vec: f(vec, self.var_list, self.bias), inputs)\n    <ipython-input-67-7ed9bfbf5470>:32 f\n        var_list[0][1] ^ x_node[0]\n    /home/xiaochen/anaconda3/envs/pytorchkfj/lib/python3.7/site-packages/tensorflow/python/ops/math_ops.py:888 binary_op_wrapper\n        y, dtype_hint=x.dtype.base_dtype, name=\"y\")\n    /home/xiaochen/anaconda3/envs/pytorchkfj/lib/python3.7/site-packages/tensorflow/python/framework/ops.py:1145 convert_to_tensor_v2\n        as_ref=False)\n    /home/xiaochen/anaconda3/envs/pytorchkfj/lib/python3.7/site-packages/tensorflow/python/framework/ops.py:1224 internal_convert_to_tensor\n        ret = conversion_func(value, dtype=dtype, name=name, as_ref=as_ref)\n    /home/xiaochen/anaconda3/envs/pytorchkfj/lib/python3.7/site-packages/tensorflow/python/framework/constant_op.py:305 _constant_tensor_conversion_function\n        return constant(v, dtype=dtype, name=name)\n    /home/xiaochen/anaconda3/envs/pytorchkfj/lib/python3.7/site-packages/tensorflow/python/framework/constant_op.py:246 constant\n        allow_broadcast=True)\n    /home/xiaochen/anaconda3/envs/pytorchkfj/lib/python3.7/site-packages/tensorflow/python/framework/constant_op.py:284 _constant_impl\n        allow_broadcast=allow_broadcast))\n    /home/xiaochen/anaconda3/envs/pytorchkfj/lib/python3.7/site-packages/tensorflow/python/framework/tensor_util.py:562 make_tensor_proto\n        \"supported type.\" % (type(values), values))\n\n    TypeError: Failed to convert object of type <class 'tensornetwork.network_components.Edge'> to Tensor. Contents: __unnamed_edge__. Consider casting elements to a supported type.\n"
     ]
    }
   ],
   "source": [
    "tn_model3 = tf.keras.Sequential()\n",
    "tn_model3.add(Conv2D(16, kernel_size=(3,3), activation='relu', name='conv1', input_shape=(28,28,1)))\n",
    "tn_model3.add(Conv2D(32, kernel_size=(3,3), activation='relu', name='conv2'))\n",
    "tn_model3.add(Conv2D(16, kernel_size=(3,3), activation='relu', name='conv3'))\n",
    "tn_model3.add(MaxPooling2D(pool_size=(2,2)))\n",
    "tn_model3.add(tf.keras.layers.Flatten())\n",
    "tn_model3.add(MultiNodeTNLayer((11, 11, 4, 4)))\n",
    "tn_model3.add(Dense(10, activation='softmax', name='fc2'))\n",
    "tn_model3.summary()"
   ]
  },
  {
   "cell_type": "markdown",
   "metadata": {
    "colab_type": "text",
    "id": "GWwoYp0WnsLA"
   },
   "source": [
    "# Training the two models"
   ]
  },
  {
   "cell_type": "code",
   "execution_count": 25,
   "metadata": {},
   "outputs": [
    {
     "name": "stdout",
     "output_type": "stream",
     "text": [
      "Epoch 1/20\n",
      "60000/60000 [==============================] - 83s 1ms/sample - loss: 0.0818 - accuracy: 0.9756\n",
      "Epoch 2/20\n",
      "60000/60000 [==============================] - 78s 1ms/sample - loss: 0.0444 - accuracy: 0.9865\n",
      "Epoch 3/20\n",
      "60000/60000 [==============================] - 77s 1ms/sample - loss: 0.0352 - accuracy: 0.9890\n",
      "Epoch 4/20\n",
      "60000/60000 [==============================] - 80s 1ms/sample - loss: 0.0306 - accuracy: 0.9906\n",
      "Epoch 5/20\n",
      "60000/60000 [==============================] - 65s 1ms/sample - loss: 0.0258 - accuracy: 0.9919\n",
      "Epoch 6/20\n",
      "60000/60000 [==============================] - 71s 1ms/sample - loss: 0.0258 - accuracy: 0.9921\n",
      "Epoch 7/20\n",
      "60000/60000 [==============================] - 79s 1ms/sample - loss: 0.0225 - accuracy: 0.9930\n",
      "Epoch 8/20\n",
      "60000/60000 [==============================] - 79s 1ms/sample - loss: 0.0222 - accuracy: 0.9934\n",
      "Epoch 9/20\n",
      "60000/60000 [==============================] - 79s 1ms/sample - loss: 0.0193 - accuracy: 0.9941\n",
      "Epoch 10/20\n",
      "60000/60000 [==============================] - 78s 1ms/sample - loss: 0.0219 - accuracy: 0.9935\n",
      "Epoch 11/20\n",
      "60000/60000 [==============================] - 76s 1ms/sample - loss: 0.0184 - accuracy: 0.9945\n",
      "Epoch 12/20\n",
      "60000/60000 [==============================] - 78s 1ms/sample - loss: 0.0219 - accuracy: 0.9937\n",
      "Epoch 13/20\n",
      "60000/60000 [==============================] - 76s 1ms/sample - loss: 0.0203 - accuracy: 0.9941\n",
      "Epoch 14/20\n",
      "60000/60000 [==============================] - 76s 1ms/sample - loss: 0.0206 - accuracy: 0.9944\n",
      "Epoch 15/20\n",
      "60000/60000 [==============================] - 79s 1ms/sample - loss: 0.0177 - accuracy: 0.9953\n",
      "Epoch 16/20\n",
      "60000/60000 [==============================] - 79s 1ms/sample - loss: 0.0152 - accuracy: 0.9957\n",
      "Epoch 17/20\n",
      "60000/60000 [==============================] - 78s 1ms/sample - loss: 0.0197 - accuracy: 0.9946\n",
      "Epoch 18/20\n",
      "60000/60000 [==============================] - 79s 1ms/sample - loss: 0.0172 - accuracy: 0.9950\n",
      "Epoch 19/20\n",
      "60000/60000 [==============================] - 79s 1ms/sample - loss: 0.0182 - accuracy: 0.9954\n",
      "Epoch 20/20\n",
      "60000/60000 [==============================] - 78s 1ms/sample - loss: 0.0168 - accuracy: 0.9955\n",
      "CPU times: user 1h 28min 18s, sys: 16min 36s, total: 1h 44min 55s\n",
      "Wall time: 25min 50s\n"
     ]
    }
   ],
   "source": [
    "%%time\n",
    "\n",
    "# TensorNetwork model\n",
    "tn_model.compile(loss=tf.keras.losses.categorical_crossentropy, optimizer=tf.keras.optimizers.Adam(), metrics=['accuracy'])\n",
    "tn_hist = tn_model.fit(x_train, y_train, epochs=20, verbose=1)"
   ]
  },
  {
   "cell_type": "code",
   "execution_count": 48,
   "metadata": {},
   "outputs": [
    {
     "name": "stdout",
     "output_type": "stream",
     "text": [
      "Epoch 1/20\n",
      "60000/60000 [==============================] - 84s 1ms/sample - loss: 0.1515 - accuracy: 0.9531\n",
      "Epoch 2/20\n",
      "60000/60000 [==============================] - 86s 1ms/sample - loss: 0.0531 - accuracy: 0.9837\n",
      "Epoch 3/20\n",
      "60000/60000 [==============================] - 85s 1ms/sample - loss: 0.0392 - accuracy: 0.9877\n",
      "Epoch 4/20\n",
      "60000/60000 [==============================] - 85s 1ms/sample - loss: 0.0342 - accuracy: 0.9888\n",
      "Epoch 5/20\n",
      "60000/60000 [==============================] - 85s 1ms/sample - loss: 0.0290 - accuracy: 0.9908\n",
      "Epoch 6/20\n",
      "60000/60000 [==============================] - 84s 1ms/sample - loss: 0.0261 - accuracy: 0.9918\n",
      "Epoch 7/20\n",
      "60000/60000 [==============================] - 85s 1ms/sample - loss: 0.0220 - accuracy: 0.9928\n",
      "Epoch 8/20\n",
      "60000/60000 [==============================] - 82s 1ms/sample - loss: 0.0206 - accuracy: 0.9935\n",
      "Epoch 9/20\n",
      "60000/60000 [==============================] - 85s 1ms/sample - loss: 0.0184 - accuracy: 0.9938\n",
      "Epoch 10/20\n",
      "60000/60000 [==============================] - 85s 1ms/sample - loss: 0.0169 - accuracy: 0.9945s - loss: 0\n",
      "Epoch 11/20\n",
      "60000/60000 [==============================] - 85s 1ms/sample - loss: 0.0150 - accuracy: 0.9948\n",
      "Epoch 12/20\n",
      "60000/60000 [==============================] - 86s 1ms/sample - loss: 0.0141 - accuracy: 0.9956\n",
      "Epoch 13/20\n",
      "60000/60000 [==============================] - 75s 1ms/sample - loss: 0.0145 - accuracy: 0.9950\n",
      "Epoch 14/20\n",
      "60000/60000 [==============================] - 82s 1ms/sample - loss: 0.0128 - accuracy: 0.9956\n",
      "Epoch 15/20\n",
      "60000/60000 [==============================] - 82s 1ms/sample - loss: 0.0128 - accuracy: 0.9959\n",
      "Epoch 16/20\n",
      "60000/60000 [==============================] - 87s 1ms/sample - loss: 0.0117 - accuracy: 0.9962\n",
      "Epoch 17/20\n",
      "60000/60000 [==============================] - 85s 1ms/sample - loss: 0.0123 - accuracy: 0.9960\n",
      "Epoch 18/20\n",
      "60000/60000 [==============================] - 85s 1ms/sample - loss: 0.0120 - accuracy: 0.9961\n",
      "Epoch 19/20\n",
      "60000/60000 [==============================] - 85s 1ms/sample - loss: 0.0108 - accuracy: 0.9966\n",
      "Epoch 20/20\n",
      "60000/60000 [==============================] - 86s 1ms/sample - loss: 0.0108 - accuracy: 0.9964\n",
      "CPU times: user 1h 26min 40s, sys: 17min, total: 1h 43min 40s\n",
      "Wall time: 28min 8s\n"
     ]
    }
   ],
   "source": [
    "%%time\n",
    "\n",
    "# TensorNetwork model\n",
    "tn_model2.compile(loss=tf.keras.losses.categorical_crossentropy, optimizer=tf.keras.optimizers.Adam(), metrics=['accuracy'])\n",
    "tn_hist2 = tn_model2.fit(x_train, y_train, epochs=20, verbose=1)"
   ]
  },
  {
   "cell_type": "code",
   "execution_count": null,
   "metadata": {},
   "outputs": [],
   "source": []
  },
  {
   "cell_type": "markdown",
   "metadata": {
    "colab_type": "text",
    "id": "BMxSJo5gtOmQ"
   },
   "source": [
    "# Tests and performance graphs"
   ]
  },
  {
   "cell_type": "code",
   "execution_count": 49,
   "metadata": {},
   "outputs": [
    {
     "ename": "RuntimeError",
     "evalue": "You must compile your model before training/testing. Use `model.compile(optimizer, loss)`.",
     "output_type": "error",
     "traceback": [
      "\u001b[0;31m---------------------------------------------------------------------------\u001b[0m",
      "\u001b[0;31mRuntimeError\u001b[0m                              Traceback (most recent call last)",
      "\u001b[0;32m<ipython-input-49-a7a5a04c16de>\u001b[0m in \u001b[0;36m<module>\u001b[0;34m\u001b[0m\n\u001b[1;32m      1\u001b[0m \u001b[0;31m# TN model\u001b[0m\u001b[0;34m\u001b[0m\u001b[0;34m\u001b[0m\u001b[0;34m\u001b[0m\u001b[0m\n\u001b[0;32m----> 2\u001b[0;31m \u001b[0mtn_model\u001b[0m\u001b[0;34m.\u001b[0m\u001b[0mevaluate\u001b[0m\u001b[0;34m(\u001b[0m\u001b[0mx\u001b[0m\u001b[0;34m=\u001b[0m\u001b[0mx_test\u001b[0m\u001b[0;34m,\u001b[0m \u001b[0my\u001b[0m\u001b[0;34m=\u001b[0m\u001b[0my_test\u001b[0m\u001b[0;34m)\u001b[0m\u001b[0;34m\u001b[0m\u001b[0;34m\u001b[0m\u001b[0m\n\u001b[0m",
      "\u001b[0;32m~/anaconda3/envs/pytorchkfj/lib/python3.7/site-packages/tensorflow/python/keras/engine/training.py\u001b[0m in \u001b[0;36mevaluate\u001b[0;34m(self, x, y, batch_size, verbose, sample_weight, steps, callbacks, max_queue_size, workers, use_multiprocessing)\u001b[0m\n\u001b[1;32m    867\u001b[0m     \"\"\"\n\u001b[1;32m    868\u001b[0m     \u001b[0m_keras_api_gauge\u001b[0m\u001b[0;34m.\u001b[0m\u001b[0mget_cell\u001b[0m\u001b[0;34m(\u001b[0m\u001b[0;34m'evaluate'\u001b[0m\u001b[0;34m)\u001b[0m\u001b[0;34m.\u001b[0m\u001b[0mset\u001b[0m\u001b[0;34m(\u001b[0m\u001b[0;32mTrue\u001b[0m\u001b[0;34m)\u001b[0m\u001b[0;34m\u001b[0m\u001b[0;34m\u001b[0m\u001b[0m\n\u001b[0;32m--> 869\u001b[0;31m     \u001b[0mself\u001b[0m\u001b[0;34m.\u001b[0m\u001b[0m_assert_compile_was_called\u001b[0m\u001b[0;34m(\u001b[0m\u001b[0;34m)\u001b[0m\u001b[0;34m\u001b[0m\u001b[0;34m\u001b[0m\u001b[0m\n\u001b[0m\u001b[1;32m    870\u001b[0m \u001b[0;34m\u001b[0m\u001b[0m\n\u001b[1;32m    871\u001b[0m     \u001b[0;31m# Case 1: distribution strategy.\u001b[0m\u001b[0;34m\u001b[0m\u001b[0;34m\u001b[0m\u001b[0;34m\u001b[0m\u001b[0m\n",
      "\u001b[0;32m~/anaconda3/envs/pytorchkfj/lib/python3.7/site-packages/tensorflow/python/keras/engine/training.py\u001b[0m in \u001b[0;36m_assert_compile_was_called\u001b[0;34m(self)\u001b[0m\n\u001b[1;32m   2932\u001b[0m     \u001b[0;31m# (i.e. whether the model is built and its inputs/outputs are set).\u001b[0m\u001b[0;34m\u001b[0m\u001b[0;34m\u001b[0m\u001b[0;34m\u001b[0m\u001b[0m\n\u001b[1;32m   2933\u001b[0m     \u001b[0;32mif\u001b[0m \u001b[0;32mnot\u001b[0m \u001b[0mself\u001b[0m\u001b[0;34m.\u001b[0m\u001b[0moptimizer\u001b[0m\u001b[0;34m:\u001b[0m\u001b[0;34m\u001b[0m\u001b[0;34m\u001b[0m\u001b[0m\n\u001b[0;32m-> 2934\u001b[0;31m       raise RuntimeError('You must compile your model before '\n\u001b[0m\u001b[1;32m   2935\u001b[0m                          \u001b[0;34m'training/testing. '\u001b[0m\u001b[0;34m\u001b[0m\u001b[0;34m\u001b[0m\u001b[0m\n\u001b[1;32m   2936\u001b[0m                          'Use `model.compile(optimizer, loss)`.')\n",
      "\u001b[0;31mRuntimeError\u001b[0m: You must compile your model before training/testing. Use `model.compile(optimizer, loss)`."
     ]
    }
   ],
   "source": [
    "# TN model\n",
    "tn_model.evaluate(x=x_test, y=y_test)"
   ]
  },
  {
   "cell_type": "code",
   "execution_count": 50,
   "metadata": {},
   "outputs": [
    {
     "name": "stdout",
     "output_type": "stream",
     "text": [
      "10000/10000 [==============================] - 7s 729us/sample - loss: 0.0416 - accuracy: 0.9901\n"
     ]
    },
    {
     "data": {
      "text/plain": [
       "[0.04163387740198805, 0.9901]"
      ]
     },
     "execution_count": 50,
     "metadata": {},
     "output_type": "execute_result"
    }
   ],
   "source": [
    "# TN2 model\n",
    "tn_model2.evaluate(x=x_test, y=y_test)"
   ]
  },
  {
   "cell_type": "code",
   "execution_count": 51,
   "metadata": {},
   "outputs": [
    {
     "data": {
      "image/png": "[encoded data removed]",
      "text/plain": [
       "<Figure size 432x288 with 1 Axes>"
      ]
     },
     "metadata": {
      "needs_background": "light"
     },
     "output_type": "display_data"
    },
    {
     "data": {
      "image/png": "[encoded data removed]",
      "text/plain": [
       "<Figure size 432x288 with 1 Axes>"
      ]
     },
     "metadata": {
      "needs_background": "light"
     },
     "output_type": "display_data"
    }
   ],
   "source": [
    "tn_loss = tn_hist.history['loss']\n",
    "tn_acc = tn_hist.history['accuracy']\n",
    "\n",
    "tn_loss2 = tn_hist2.history['loss']\n",
    "tn_acc2 = tn_hist2.history['accuracy']\n",
    "\n",
    "plt.plot(tn_loss, label='tn_binode')\n",
    "plt.plot(tn_loss2, label='tn_trinode')\n",
    "plt.title('Loss comparsion in training')\n",
    "plt.ylim(0, 0.15)\n",
    "plt.legend()\n",
    "plt.show()\n",
    "\n",
    "plt.plot(tn_acc, label='tn_binode')\n",
    "plt.plot(tn_acc2, label='tn_trinode')\n",
    "plt.title('Accuracy comparsion in training')\n",
    "plt.legend()\n",
    "plt.show()"
   ]
  },
  {
   "cell_type": "code",
   "execution_count": null,
   "metadata": {},
   "outputs": [],
   "source": []
  }
 ],
 "metadata": {
  "colab": {
   "collapsed_sections": [],
   "name": "Tensor Networks in Neural Networks",
   "provenance": []
  },
  "kernelspec": {
   "display_name": "Python 3",
   "language": "python",
   "name": "python3"
  },
  "language_info": {
   "codemirror_mode": {
    "name": "ipython",
    "version": 3
   },
   "file_extension": ".py",
   "mimetype": "text/x-python",
   "name": "python",
   "nbconvert_exporter": "python",
   "pygments_lexer": "ipython3",
   "version": "3.7.9"
  }
 },
 "nbformat": 4,
 "nbformat_minor": 1
}
